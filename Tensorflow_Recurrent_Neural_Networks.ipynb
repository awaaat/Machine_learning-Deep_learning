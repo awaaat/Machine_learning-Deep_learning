{
  "nbformat": 4,
  "nbformat_minor": 0,
  "metadata": {
    "colab": {
      "provenance": [],
      "authorship_tag": "ABX9TyMTrG1C36PZKyHWITxBipHt",
      "include_colab_link": true
    },
    "kernelspec": {
      "name": "python3",
      "display_name": "Python 3"
    },
    "language_info": {
      "name": "python"
    }
  },
  "cells": [
    {
      "cell_type": "markdown",
      "metadata": {
        "id": "view-in-github",
        "colab_type": "text"
      },
      "source": [
        "<a href=\"https://colab.research.google.com/github/awaaat/Machine_learning-Deep_learning/blob/main/Tensorflow_Recurrent_Neural_Networks.ipynb\" target=\"_parent\"><img src=\"https://colab.research.google.com/assets/colab-badge.svg\" alt=\"Open In Colab\"/></a>"
      ]
    },
    {
      "cell_type": "code",
      "execution_count": 17,
      "metadata": {
        "id": "sDvrcXFhoc9W"
      },
      "outputs": [],
      "source": [
        "import tensorflow as tensorflow\n",
        "from tensorflow.keras.models import Sequential\n",
        "from tensorflow.keras.layers import  Dense, Activation, SimpleRNN\n",
        "from tensorflow.keras.utils import to_categorical, plot_model\n",
        "from tensorflow.keras.datasets import mnist\n",
        "import numpy as np"
      ]
    },
    {
      "cell_type": "code",
      "source": [
        "(X_train, y_train), (X_test, y_test) = mnist.load_data()\n",
        "print(f\"X_train: {X_train.shape}\")\n",
        "print(f\"y_train: {y_train.shape}\")\n",
        "print(f\"X_test: {X_test.shape}\")\n",
        "print(f\"y_test: {y_test.shape}\")"
      ],
      "metadata": {
        "colab": {
          "base_uri": "https://localhost:8080/"
        },
        "id": "W5fgPef_t95D",
        "outputId": "4e650373-03f5-4c9e-d9e0-c6dec259870a"
      },
      "execution_count": 18,
      "outputs": [
        {
          "output_type": "stream",
          "name": "stdout",
          "text": [
            "X_train: (60000, 28, 28)\n",
            "y_train: (60000,)\n",
            "X_test: (10000, 28, 28)\n",
            "y_test: (10000,)\n"
          ]
        }
      ]
    },
    {
      "cell_type": "code",
      "source": [
        "#We first compute the number of labels, which is the\n",
        "num_labels = len(np.unique(y_test))\n",
        "print(num_labels)\n",
        "# Do one hot encoding for our labels\n",
        "y_train = to_categorical(y_train)\n",
        "y_test = to_categorical(y_test)"
      ],
      "metadata": {
        "colab": {
          "base_uri": "https://localhost:8080/"
        },
        "id": "42uyDGkuujpO",
        "outputId": "94d8d47c-b980-4e85-d2e3-b8693f7c7d90"
      },
      "execution_count": 19,
      "outputs": [
        {
          "output_type": "stream",
          "name": "stdout",
          "text": [
            "10\n"
          ]
        }
      ]
    },
    {
      "cell_type": "code",
      "source": [
        "#We resize and normalize our features\n",
        "image_size = X_train.shape[1]\n",
        "X_train = np.reshape(X_train, [-1, image_size, image_size])\n",
        "X_test = np.reshape(X_test, [-1, image_size, image_size])\n",
        "#Convert them to float\n",
        "X_train = X_train.astype(\"float32\")/255\n",
        "X_test = X_test.astype(\"float32\")/255\n"
      ],
      "metadata": {
        "id": "3OaeJf-J363o"
      },
      "execution_count": 20,
      "outputs": []
    },
    {
      "cell_type": "code",
      "source": [
        "#Let us define our network parameters\n",
        "input_shape = (image_size, image_size)\n",
        "batch_size = 128\n",
        "units = 256\n",
        "dropout = 0.2\n"
      ],
      "metadata": {
        "id": "095qEscY4mRo"
      },
      "execution_count": 21,
      "outputs": []
    },
    {
      "cell_type": "code",
      "source": [
        "model = Sequential()\n",
        "model.add(SimpleRNN(units = units, dropout = dropout, input_shape = input_shape))\n",
        "model.add(Dense(num_labels))\n",
        "model.add(Activation(\"softmax\"))\n",
        "model.summary()\n",
        "plot_model(model, to_file=\"rnn-mnist.png\", show_shapes = True)\n",
        "#We define our loss function, optimizer and metrics\n",
        "model.compile(loss = \"categorical_crossentropy\", optimizer = \"sgd\", metrics = [\"accuracy\"])\n",
        "#We train our model\n",
        "model.fit(X_train, y_train, epochs = 10, batch_size = batch_size)\n",
        "_, acc = model.evaluate(X_test, y_test, batch_size = batch_size, verbose = True)\n",
        "print(\"\\nModel Test Accuracy: %.1f%%\" %(100*acc))"
      ],
      "metadata": {
        "colab": {
          "base_uri": "https://localhost:8080/"
        },
        "id": "Nho3p0Vz7VUr",
        "outputId": "5d8f57e4-e928-4b58-b81f-9a8f78bc15c9"
      },
      "execution_count": 22,
      "outputs": [
        {
          "output_type": "stream",
          "name": "stdout",
          "text": [
            "Model: \"sequential\"\n",
            "_________________________________________________________________\n",
            " Layer (type)                Output Shape              Param #   \n",
            "=================================================================\n",
            " simple_rnn (SimpleRNN)      (None, 256)               72960     \n",
            "                                                                 \n",
            " dense (Dense)               (None, 10)                2570      \n",
            "                                                                 \n",
            " activation (Activation)     (None, 10)                0         \n",
            "                                                                 \n",
            "=================================================================\n",
            "Total params: 75530 (295.04 KB)\n",
            "Trainable params: 75530 (295.04 KB)\n",
            "Non-trainable params: 0 (0.00 Byte)\n",
            "_________________________________________________________________\n",
            "Epoch 1/10\n",
            "469/469 [==============================] - 27s 55ms/step - loss: 0.7397 - accuracy: 0.7896\n",
            "Epoch 2/10\n",
            "469/469 [==============================] - 27s 56ms/step - loss: 0.3047 - accuracy: 0.9098\n",
            "Epoch 3/10\n",
            "469/469 [==============================] - 26s 55ms/step - loss: 0.2328 - accuracy: 0.9313\n",
            "Epoch 4/10\n",
            "469/469 [==============================] - 26s 55ms/step - loss: 0.2002 - accuracy: 0.9409\n",
            "Epoch 5/10\n",
            "469/469 [==============================] - 26s 55ms/step - loss: 0.1733 - accuracy: 0.9479\n",
            "Epoch 6/10\n",
            "469/469 [==============================] - 26s 56ms/step - loss: 0.1551 - accuracy: 0.9534\n",
            "Epoch 7/10\n",
            "469/469 [==============================] - 26s 54ms/step - loss: 0.1398 - accuracy: 0.9586\n",
            "Epoch 8/10\n",
            "469/469 [==============================] - 26s 55ms/step - loss: 0.1281 - accuracy: 0.9617\n",
            "Epoch 9/10\n",
            "469/469 [==============================] - 26s 55ms/step - loss: 0.1206 - accuracy: 0.9639\n",
            "Epoch 10/10\n",
            "469/469 [==============================] - 26s 55ms/step - loss: 0.1138 - accuracy: 0.9657\n",
            "79/79 [==============================] - 2s 19ms/step - loss: 0.0944 - accuracy: 0.9725\n",
            "\n",
            "Model Test Accuracy: 97.3%\n"
          ]
        }
      ]
    }
  ]
}