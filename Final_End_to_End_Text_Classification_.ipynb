{
  "nbformat": 4,
  "nbformat_minor": 0,
  "metadata": {
    "colab": {
      "provenance": [],
      "gpuType": "T4",
      "authorship_tag": "ABX9TyNTllPqZyjMGVZ7yuWEQNhQ",
      "include_colab_link": true
    },
    "kernelspec": {
      "name": "python3",
      "display_name": "Python 3"
    },
    "language_info": {
      "name": "python"
    },
    "accelerator": "GPU"
  },
  "cells": [
    {
      "cell_type": "markdown",
      "metadata": {
        "id": "view-in-github",
        "colab_type": "text"
      },
      "source": [
        "<a href=\"https://colab.research.google.com/github/awaaat/Machine_learning-Deep_learning/blob/main/Final_End_to_End_Text_Classification_.ipynb\" target=\"_parent\"><img src=\"https://colab.research.google.com/assets/colab-badge.svg\" alt=\"Open In Colab\"/></a>"
      ]
    },
    {
      "cell_type": "code",
      "source": [
        "import os\n",
        "import tensorflow as tf\n",
        "import re\n",
        "import numpy as np\n",
        "import shutil\n",
        "import matplotlib.pyplot as plt\n",
        "import string\n",
        "from tensorflow.keras import losses\n",
        "from tensorflow.keras import layers"
      ],
      "metadata": {
        "id": "dEImrQUOtvbY"
      },
      "execution_count": 33,
      "outputs": []
    },
    {
      "cell_type": "code",
      "source": [
        "#Let is download and fetchh the database\n",
        "dataset_link = \"https://ai.stanford.edu/~amaas/data/sentiment/aclImdb_v1.tar.gz\"\n",
        "dataset = tf.keras.utils.get_file(fname = \"aclImdb_v1\", origin = dataset_link, untar = True, cache_dir = \".\", cache_subdir = \" \")\n",
        "dataset_dir = os.path.join(os.path.dirname(dataset), \"aclImdb\")"
      ],
      "metadata": {
        "colab": {
          "base_uri": "https://localhost:8080/"
        },
        "id": "ZVGUj_fN4HAp",
        "outputId": "0b26b28e-35d9-495f-cf39-7bad6a94b496"
      },
      "execution_count": 2,
      "outputs": [
        {
          "output_type": "stream",
          "name": "stdout",
          "text": [
            "Downloading data from https://ai.stanford.edu/~amaas/data/sentiment/aclImdb_v1.tar.gz\n",
            "84125825/84125825 [==============================] - 13s 0us/step\n"
          ]
        }
      ]
    },
    {
      "cell_type": "code",
      "source": [
        "os.listdir(dataset_dir)"
      ],
      "metadata": {
        "colab": {
          "base_uri": "https://localhost:8080/"
        },
        "id": "xtWEKBDi8xIB",
        "outputId": "a4279e94-6920-492d-fae5-b562855c5b98"
      },
      "execution_count": 3,
      "outputs": [
        {
          "output_type": "execute_result",
          "data": {
            "text/plain": [
              "['test', 'imdb.vocab', 'imdbEr.txt', 'README', 'train']"
            ]
          },
          "metadata": {},
          "execution_count": 3
        }
      ]
    },
    {
      "cell_type": "code",
      "source": [
        "#To get the train_dir...\n",
        "train_dir = os.path.join(dataset_dir, \"train\")\n",
        "os.listdir(train_dir)"
      ],
      "metadata": {
        "colab": {
          "base_uri": "https://localhost:8080/"
        },
        "id": "S2keprouB4Dw",
        "outputId": "ef15df66-d13b-42fd-913c-151ab321da4f"
      },
      "execution_count": 4,
      "outputs": [
        {
          "output_type": "execute_result",
          "data": {
            "text/plain": [
              "['neg',\n",
              " 'urls_pos.txt',\n",
              " 'unsup',\n",
              " 'labeledBow.feat',\n",
              " 'unsupBow.feat',\n",
              " 'pos',\n",
              " 'urls_neg.txt',\n",
              " 'urls_unsup.txt']"
            ]
          },
          "metadata": {},
          "execution_count": 4
        }
      ]
    },
    {
      "cell_type": "code",
      "source": [
        "test_dir = os.path.join(dataset_dir, \"test\")\n",
        "os.listdir(test_dir)"
      ],
      "metadata": {
        "colab": {
          "base_uri": "https://localhost:8080/"
        },
        "id": "51YsaykqCfzn",
        "outputId": "eedec0b6-1273-4146-f07c-ad042836158f"
      },
      "execution_count": 5,
      "outputs": [
        {
          "output_type": "execute_result",
          "data": {
            "text/plain": [
              "['neg', 'urls_pos.txt', 'labeledBow.feat', 'pos', 'urls_neg.txt']"
            ]
          },
          "metadata": {},
          "execution_count": 5
        }
      ]
    },
    {
      "cell_type": "code",
      "source": [
        "#Let us fetch a sample file in the train set\n",
        "sample_file = os.path.join(train_dir, \"pos/1181_9.txt\")\n",
        "with open(sample_file) as f:\n",
        "  print(f.read())"
      ],
      "metadata": {
        "colab": {
          "base_uri": "https://localhost:8080/"
        },
        "id": "GxO7VyowCqky",
        "outputId": "e00893eb-1f0f-43af-cd70-e63ba4c10300"
      },
      "execution_count": 6,
      "outputs": [
        {
          "output_type": "stream",
          "name": "stdout",
          "text": [
            "Rachel Griffiths writes and directs this award winning short film. A heartwarming story about coping with grief and cherishing the memory of those we've loved and lost. Although, only 15 minutes long, Griffiths manages to capture so much emotion and truth onto film in the short space of time. Bud Tingwell gives a touching performance as Will, a widower struggling to cope with his wife's death. Will is confronted by the harsh reality of loneliness and helplessness as he proceeds to take care of Ruth's pet cow, Tulip. The film displays the grief and responsibility one feels for those they have loved and lost. Good cinematography, great direction, and superbly acted. It will bring tears to all those who have lost a loved one, and survived.\n"
          ]
        }
      ]
    },
    {
      "cell_type": "code",
      "source": [
        "os.listdir(train_dir)"
      ],
      "metadata": {
        "colab": {
          "base_uri": "https://localhost:8080/"
        },
        "id": "bj33k5iBGADV",
        "outputId": "6c08a3f0-88a4-453c-ec51-a15da41e52d1"
      },
      "execution_count": 7,
      "outputs": [
        {
          "output_type": "execute_result",
          "data": {
            "text/plain": [
              "['neg',\n",
              " 'urls_pos.txt',\n",
              " 'unsup',\n",
              " 'labeledBow.feat',\n",
              " 'unsupBow.feat',\n",
              " 'pos',\n",
              " 'urls_neg.txt',\n",
              " 'urls_unsup.txt']"
            ]
          },
          "metadata": {},
          "execution_count": 7
        }
      ]
    },
    {
      "cell_type": "code",
      "source": [
        "remove_dir = os.path.join(train_dir, \"unsup\")\n",
        "shutil.rmtree(remove_dir)"
      ],
      "metadata": {
        "id": "ko29ireUGDf6"
      },
      "execution_count": 8,
      "outputs": []
    },
    {
      "cell_type": "code",
      "source": [
        "os.listdir(train_dir)"
      ],
      "metadata": {
        "colab": {
          "base_uri": "https://localhost:8080/"
        },
        "id": "NdGsR9F4GYfw",
        "outputId": "a00afe6b-6fbb-4dea-9417-f41837cda4fb"
      },
      "execution_count": 9,
      "outputs": [
        {
          "output_type": "execute_result",
          "data": {
            "text/plain": [
              "['neg',\n",
              " 'urls_pos.txt',\n",
              " 'labeledBow.feat',\n",
              " 'unsupBow.feat',\n",
              " 'pos',\n",
              " 'urls_neg.txt',\n",
              " 'urls_unsup.txt']"
            ]
          },
          "metadata": {},
          "execution_count": 9
        }
      ]
    },
    {
      "cell_type": "code",
      "source": [
        "#Ceate a validation set\n",
        "batch_size = 32\n",
        "seed = 42\n",
        "raw_training_dataset = tf.keras.utils.text_dataset_from_directory(train_dir, batch_size = batch_size, seed = seed, shuffle = True, validation_split=0.2, subset = \"training\" )"
      ],
      "metadata": {
        "colab": {
          "base_uri": "https://localhost:8080/"
        },
        "id": "kPa10SwfGbxG",
        "outputId": "0767caf3-3ca1-4af3-8bc2-7d05def1a8bd"
      },
      "execution_count": 10,
      "outputs": [
        {
          "output_type": "stream",
          "name": "stdout",
          "text": [
            "Found 25000 files belonging to 2 classes.\n",
            "Using 20000 files for training.\n"
          ]
        }
      ]
    },
    {
      "cell_type": "code",
      "source": [
        "raw_validation_dataset = tf.keras.utils.text_dataset_from_directory(train_dir,\n",
        "                                                                    batch_size = batch_size,\n",
        "                                                                    seed = seed,\n",
        "                                                                    shuffle = True,\n",
        "                                                                    validation_split = 0.2,\n",
        "                                                                    subset  = \"validation\")"
      ],
      "metadata": {
        "colab": {
          "base_uri": "https://localhost:8080/"
        },
        "id": "DJPDJ7E7IVyf",
        "outputId": "7bd59c65-4214-4a98-d351-aa665c9409ad"
      },
      "execution_count": 11,
      "outputs": [
        {
          "output_type": "stream",
          "name": "stdout",
          "text": [
            "Found 25000 files belonging to 2 classes.\n",
            "Using 5000 files for validation.\n"
          ]
        }
      ]
    },
    {
      "cell_type": "code",
      "source": [
        "#Let us print out a few samples of our training samples\n",
        "for sample_train_batch, label_batch in raw_training_dataset.take(1):\n",
        "  for i in range(5):\n",
        "    print(f\"Review: {sample_train_batch.numpy()[i]}\")\n",
        "    print(f\"Label: {label_batch.numpy()[i]}\")"
      ],
      "metadata": {
        "colab": {
          "base_uri": "https://localhost:8080/"
        },
        "id": "0LVPuoCtIxdu",
        "outputId": "986426bb-c17c-45d0-f8fc-d7b1f62f4412"
      },
      "execution_count": 12,
      "outputs": [
        {
          "output_type": "stream",
          "name": "stdout",
          "text": [
            "Review: b'\"Pandemonium\" is a horror movie spoof that comes off more stupid than funny. Believe me when I tell you, I love comedies. Especially comedy spoofs. \"Airplane\", \"The Naked Gun\" trilogy, \"Blazing Saddles\", \"High Anxiety\", and \"Spaceballs\" are some of my favorite comedies that spoof a particular genre. \"Pandemonium\" is not up there with those films. Most of the scenes in this movie had me sitting there in stunned silence because the movie wasn\\'t all that funny. There are a few laughs in the film, but when you watch a comedy, you expect to laugh a lot more than a few times and that\\'s all this film has going for it. Geez, \"Scream\" had more laughs than this film and that was more of a horror film. How bizarre is that?<br /><br />*1/2 (out of four)'\n",
            "Label: 0\n",
            "Review: b\"David Mamet is a very interesting and a very un-equal director. His first movie 'House of Games' was the one I liked best, and it set a series of films with characters whose perspective of life changes as they get into complicated situations, and so does the perspective of the viewer.<br /><br />So is 'Homicide' which from the title tries to set the mind of the viewer to the usual crime drama. The principal characters are two cops, one Jewish and one Irish who deal with a racially charged area. The murder of an old Jewish shop owner who proves to be an ancient veteran of the Israeli Independence war triggers the Jewish identity in the mind and heart of the Jewish detective.<br /><br />This is were the flaws of the film are the more obvious. The process of awakening is theatrical and hard to believe, the group of Jewish militants is operatic, and the way the detective eventually walks to the final violent confrontation is pathetic. The end of the film itself is Mamet-like smart, but disappoints from a human emotional perspective.<br /><br />Joe Mantegna and William Macy give strong performances, but the flaws of the story are too evident to be easily compensated.\"\n",
            "Label: 0\n",
            "Review: b'Great documentary about the lives of NY firefighters during the worst terrorist attack of all time.. That reason alone is why this should be a must see collectors item.. What shocked me was not only the attacks, but the\"High Fat Diet\" and physical appearance of some of these firefighters. I think a lot of Doctors would agree with me that,in the physical shape they were in, some of these firefighters would NOT of made it to the 79th floor carrying over 60 lbs of gear. Having said that i now have a greater respect for firefighters and i realize becoming a firefighter is a life altering job. The French have a history of making great documentary\\'s and that is what this is, a Great Documentary.....'\n",
            "Label: 1\n",
            "Review: b\"It's boggles the mind how this movie was nominated for seven Oscars and won one. Not because it's abysmal or because given the collective credentials of the creative team behind it really ought to deserve them but because in every category it was nominated Prizzi's Honor disappoints. Some would argue that old Hollywood pioneer John Huston had lost it by this point in his career but I don't buy it. Only the previous year he signed the superb UNDER THE VOLCANO, a dark character study set in Mexico, that ranks among the finest he ever did. Prizzi's Honor on the other hand, a film loaded with star power, good intentions and a decent script, proves to be a major letdown.<br /><br />The overall tone and plot of a gangster falling in love with a female hit-man prefigures the quirky crimedies that caught Hollywood by storm in the early 90's but the script is too convoluted for its own sake, the motivations are off and on the whole the story seems unsure of what exactly it's trying to be: a romantic comedy, a crime drama, a gangster saga etc. Jack Nicholson (doing a Brooklyn accent that works perfectly for De Niro but sounds unconvincing coming from Jack) and Kathleen Turner in the leading roles seem to be in paycheck mode, just going through the motions almost sleepwalking their way through some parts. Anjelica Huston on the other hand fares better but her performance is sabotaged by her character's motivations: she starts out the victim of her bigot father's disdain, she proves to be supportive to her ex-husband, then becomes a vindictive bitch that wants his head on a plate.<br /><br />The colours of the movie have a washed-up quality like it was made in the early 70's and Huston's direction is as uninteresting as everything else. There's promise behind the story and perhaps in the hands of a director hungry to be recognized it could've been morphed to something better but what's left looks like a film nobody was really interested in making.\"\n",
            "Label: 0\n",
            "Review: b'The concept of the legal gray area in Love Crimes contributes to about 10% of the movie\\'s appeal; the other 90% can be attributed to it\\'s flagrant bad-ness. To say that Sean Young\\'s performance as a so-called district attorney is wooden is a gross understatement. With her bland suits and superfluous hair gel, Young does a decent job at convincing the audience of her devout hatred for men. Why else would she ask her only friend to pose as a prostitute just so she can arrest cops who try to pick up on them? This hatred is also the only reason why she relentlessly pursues a perverted photographer who gives women a consensual thrill and the driving force behind this crappy movie. Watching Young go from frigid to full-frontal nudity does little to raise interest, but the temper tantrum she throws standing next to a fire by a lake does. Watching her rant and rave about her self-loathing and sexual frustration makes Love Crimes worth the rental fee, but it\\'s all downhill to and from there. Despite her urge to bring Patrick Bergin\\'s character to justice, her policing skills completely escape her in the throes of her own tired lust and passion. Patrick Bergin does a decent enough job as a slimy sociopath; if it worked in Sleeping With the Enemy it sure as hell can work in this. But I can\\'t help but wonder if the noticeable lack of energy Young brings to the film conflicts with his sliminess. I\\'m guessing it does and the result is a \"thriller\" with thrills that are thoroughly bad and yet comedic.'\n",
            "Label: 0\n"
          ]
        }
      ]
    },
    {
      "cell_type": "code",
      "source": [
        "raw_training_dataset.class_names[1]"
      ],
      "metadata": {
        "colab": {
          "base_uri": "https://localhost:8080/",
          "height": 36
        },
        "id": "2nSS5nZ4MwHQ",
        "outputId": "686e89fc-6b16-47bf-ca53-6d43643fff48"
      },
      "execution_count": 13,
      "outputs": [
        {
          "output_type": "execute_result",
          "data": {
            "text/plain": [
              "'pos'"
            ],
            "application/vnd.google.colaboratory.intrinsic+json": {
              "type": "string"
            }
          },
          "metadata": {},
          "execution_count": 13
        }
      ]
    },
    {
      "cell_type": "code",
      "source": [
        "raw_testing_dataset = tf.keras.utils.text_dataset_from_directory(test_dir)"
      ],
      "metadata": {
        "colab": {
          "base_uri": "https://localhost:8080/"
        },
        "id": "6Z7dE9kEOMJw",
        "outputId": "c6d5e2c2-572b-4b84-b7bf-9dc7582b3699"
      },
      "execution_count": 14,
      "outputs": [
        {
          "output_type": "stream",
          "name": "stdout",
          "text": [
            "Found 25000 files belonging to 2 classes.\n"
          ]
        }
      ]
    },
    {
      "cell_type": "markdown",
      "source": [
        "Preparing the data for training"
      ],
      "metadata": {
        "id": "r6eIDSaBOsjE"
      }
    },
    {
      "cell_type": "code",
      "source": [
        "\"\"\" This will largely involve standardize, tokenize, and vectorize the data using the helpful tf.keras.layers.TextVectorization layer. \"\"\"\n",
        "#Ceate a custom standardizer\n",
        "def custom_standardizer(input_data):\n",
        "  #Convert to lower case\n",
        "  lower_case = tf.strings.lower(input_data)\n",
        "  #Strip off the html tags and space\n",
        "  stripped_html = tf.strings.regex_replace(lower_case, \"<br />\", \" \")\n",
        "  return tf.strings.regex_replace(stripped_html, \"[%s]\" % re.escape(string.punctuation), \" \")"
      ],
      "metadata": {
        "id": "ZNpoKXoyOgoC"
      },
      "execution_count": 15,
      "outputs": []
    },
    {
      "cell_type": "code",
      "source": [
        "#We will have vectorizing layer\n",
        "maximum_features = 10000\n",
        "sequence_length = 250\n",
        "vectorize_layer = tf.keras.layers.TextVectorization(max_tokens = maximum_features,\n",
        "                                                    standardize = custom_standardizer,\n",
        "                                                    output_mode = \"int\",\n",
        "                                                    output_sequence_length=sequence_length)"
      ],
      "metadata": {
        "id": "DA-qZbDFTmAv"
      },
      "execution_count": 16,
      "outputs": []
    },
    {
      "cell_type": "code",
      "source": [],
      "metadata": {
        "id": "pRTbfiFXXlCa"
      },
      "execution_count": 16,
      "outputs": []
    },
    {
      "cell_type": "markdown",
      "source": [
        "#The next stage will require us to make a text-only dataset (without labels), then call adapt"
      ],
      "metadata": {
        "id": "jMrCaaM6X6LS"
      }
    },
    {
      "cell_type": "code",
      "source": [
        "training_text = raw_training_dataset.map(lambda x, y:x)\n",
        "vectorize_layer.adapt(training_text)"
      ],
      "metadata": {
        "id": "6XApk1kmQZYs"
      },
      "execution_count": 17,
      "outputs": []
    },
    {
      "cell_type": "code",
      "source": [
        "#Let us check the results of using this vectorize thing\n",
        "def vectorize_text(text, label):\n",
        "  text = tf.expand_dims(text, -1)\n",
        "  return vectorize_layer(text), label"
      ],
      "metadata": {
        "id": "_vEpV7wiZISx"
      },
      "execution_count": 18,
      "outputs": []
    },
    {
      "cell_type": "code",
      "source": [
        "text_batch, label_batch = next(iter(raw_training_dataset))\n",
        "first_review, first_label = text_batch[0], label_batch[0]\n",
        "print(f\"Review: {first_review}\")\n",
        "print(f\"Label: {raw_training_dataset.class_names[first_label]}\")\n",
        "print(f\"Vectorized_text: {vectorize_text(first_review, first_label)}\")"
      ],
      "metadata": {
        "colab": {
          "base_uri": "https://localhost:8080/"
        },
        "id": "nrI78O3TZ6Hq",
        "outputId": "ddf3d58f-9562-465c-e37b-78dfc8b9e563"
      },
      "execution_count": 19,
      "outputs": [
        {
          "output_type": "stream",
          "name": "stdout",
          "text": [
            "Review: b'Great movie - especially the music - Etta James - \"At Last\". This speaks volumes when you have finally found that special someone.'\n",
            "Label: neg\n",
            "Vectorized_text: (<tf.Tensor: shape=(1, 250), dtype=int64, numpy=\n",
            "array([[  85,   17,  258,    2,  221,    1,  580,   32,  235,   11, 2480,\n",
            "           1,   53,   23,   28,  418,  256,   12,  314,  280,    0,    0,\n",
            "           0,    0,    0,    0,    0,    0,    0,    0,    0,    0,    0,\n",
            "           0,    0,    0,    0,    0,    0,    0,    0,    0,    0,    0,\n",
            "           0,    0,    0,    0,    0,    0,    0,    0,    0,    0,    0,\n",
            "           0,    0,    0,    0,    0,    0,    0,    0,    0,    0,    0,\n",
            "           0,    0,    0,    0,    0,    0,    0,    0,    0,    0,    0,\n",
            "           0,    0,    0,    0,    0,    0,    0,    0,    0,    0,    0,\n",
            "           0,    0,    0,    0,    0,    0,    0,    0,    0,    0,    0,\n",
            "           0,    0,    0,    0,    0,    0,    0,    0,    0,    0,    0,\n",
            "           0,    0,    0,    0,    0,    0,    0,    0,    0,    0,    0,\n",
            "           0,    0,    0,    0,    0,    0,    0,    0,    0,    0,    0,\n",
            "           0,    0,    0,    0,    0,    0,    0,    0,    0,    0,    0,\n",
            "           0,    0,    0,    0,    0,    0,    0,    0,    0,    0,    0,\n",
            "           0,    0,    0,    0,    0,    0,    0,    0,    0,    0,    0,\n",
            "           0,    0,    0,    0,    0,    0,    0,    0,    0,    0,    0,\n",
            "           0,    0,    0,    0,    0,    0,    0,    0,    0,    0,    0,\n",
            "           0,    0,    0,    0,    0,    0,    0,    0,    0,    0,    0,\n",
            "           0,    0,    0,    0,    0,    0,    0,    0,    0,    0,    0,\n",
            "           0,    0,    0,    0,    0,    0,    0,    0,    0,    0,    0,\n",
            "           0,    0,    0,    0,    0,    0,    0,    0,    0,    0,    0,\n",
            "           0,    0,    0,    0,    0,    0,    0,    0,    0,    0,    0,\n",
            "           0,    0,    0,    0,    0,    0,    0,    0]])>, <tf.Tensor: shape=(), dtype=int32, numpy=0>)\n"
          ]
        }
      ]
    },
    {
      "cell_type": "code",
      "source": [
        "# We can lookup the token (string) that each integer corresponds to by calling .get_vocabulary() on the layer.\n",
        "print(f\"1420: {vectorize_layer.get_vocabulary()[1420]}\")"
      ],
      "metadata": {
        "colab": {
          "base_uri": "https://localhost:8080/"
        },
        "id": "9B_NjtY_cgSt",
        "outputId": "b912b9f6-f077-4534-ca04-6a337f155fb4"
      },
      "execution_count": 20,
      "outputs": [
        {
          "output_type": "stream",
          "name": "stdout",
          "text": [
            "1420: falling\n"
          ]
        }
      ]
    },
    {
      "cell_type": "markdown",
      "source": [
        "#We are nearly ready to train our model. As a final preprocessing step, we will apply the TextVectorization layer we created earlier to the train, validation, and test dataset."
      ],
      "metadata": {
        "id": "oQpPgSjZeVYo"
      }
    },
    {
      "cell_type": "code",
      "source": [
        "training_set = raw_training_dataset.map(vectorize_text)\n",
        "validation_set = raw_validation_dataset.map(vectorize_text)\n",
        "testing_set = raw_testing_dataset.map(vectorize_text)"
      ],
      "metadata": {
        "id": "Xufy-ahneKvM"
      },
      "execution_count": 21,
      "outputs": []
    },
    {
      "cell_type": "code",
      "source": [
        "AUTOTUNE = tf.data.AUTOTUNE\n",
        "train_ds = training_set.cache().prefetch(buffer_size =AUTOTUNE )\n",
        "validation_ds = validation_set.cache().prefetch(buffer_size = AUTOTUNE)\n",
        "test_ds = testing_set.cache().prefetch(buffer_size = AUTOTUNE)"
      ],
      "metadata": {
        "id": "SeDCGqKJeX8q"
      },
      "execution_count": 22,
      "outputs": []
    },
    {
      "cell_type": "code",
      "source": [],
      "metadata": {
        "id": "8RsQel_WhKN7"
      },
      "execution_count": 22,
      "outputs": []
    },
    {
      "cell_type": "markdown",
      "source": [
        "#The Juicy Part -- Creating our Neural Network"
      ],
      "metadata": {
        "id": "euXUrIAJngdl"
      }
    },
    {
      "cell_type": "code",
      "source": [
        "embedding_dim = 16"
      ],
      "metadata": {
        "id": "YnsgVYtcn2_s"
      },
      "execution_count": 23,
      "outputs": []
    },
    {
      "cell_type": "code",
      "source": [
        "model = tf.keras.Sequential([\n",
        "    layers.Embedding(maximum_features, embedding_dim),\n",
        "    layers.Dropout(0.2),\n",
        "    layers.GlobalAveragePooling1D(),\n",
        "    layers.Dropout(0.2),\n",
        "    layers.Dense(1, activation = \"sigmoid\")\n",
        "])\n",
        "\n",
        "model.summary()"
      ],
      "metadata": {
        "colab": {
          "base_uri": "https://localhost:8080/"
        },
        "id": "qIY_bvnwnkXI",
        "outputId": "73048e90-01a9-4e78-da45-40a8d3328e4d"
      },
      "execution_count": 24,
      "outputs": [
        {
          "output_type": "stream",
          "name": "stdout",
          "text": [
            "Model: \"sequential\"\n",
            "_________________________________________________________________\n",
            " Layer (type)                Output Shape              Param #   \n",
            "=================================================================\n",
            " embedding (Embedding)       (None, None, 16)          160000    \n",
            "                                                                 \n",
            " dropout (Dropout)           (None, None, 16)          0         \n",
            "                                                                 \n",
            " global_average_pooling1d (  (None, 16)                0         \n",
            " GlobalAveragePooling1D)                                         \n",
            "                                                                 \n",
            " dropout_1 (Dropout)         (None, 16)                0         \n",
            "                                                                 \n",
            " dense (Dense)               (None, 1)                 17        \n",
            "                                                                 \n",
            "=================================================================\n",
            "Total params: 160017 (625.07 KB)\n",
            "Trainable params: 160017 (625.07 KB)\n",
            "Non-trainable params: 0 (0.00 Byte)\n",
            "_________________________________________________________________\n"
          ]
        }
      ]
    },
    {
      "cell_type": "markdown",
      "source": [
        "#Loss function and optimizer A model needs a loss function and an optimizer for training. Since this is a binary classification problem and the model outputs a probability (a single-unit layer with a sigmoid activation), you'll use losses.BinaryCrossentropy loss function."
      ],
      "metadata": {
        "id": "z5Gpob3ip-bD"
      }
    },
    {
      "cell_type": "code",
      "source": [
        "model.compile(loss = losses.BinaryCrossentropy(),\n",
        "              optimizer = \"adam\",\n",
        "              metrics = [tf.metrics.BinaryAccuracy(threshold = 0.5)])"
      ],
      "metadata": {
        "id": "RK5qWkUXqBOL"
      },
      "execution_count": 25,
      "outputs": []
    },
    {
      "cell_type": "code",
      "source": [],
      "metadata": {
        "id": "ufgwlPd2qir4"
      },
      "execution_count": 25,
      "outputs": []
    },
    {
      "cell_type": "markdown",
      "source": [
        "#Let us now Train the model"
      ],
      "metadata": {
        "id": "3b2tukBhqlt4"
      }
    },
    {
      "cell_type": "code",
      "source": [
        "epochs = 10\n",
        "history = model.fit(\n",
        "    train_ds,\n",
        "    validation_data=validation_ds,\n",
        "    epochs=epochs)"
      ],
      "metadata": {
        "colab": {
          "base_uri": "https://localhost:8080/"
        },
        "id": "f2TiUdEZqnsa",
        "outputId": "9ed1c525-795b-43a4-a61d-bfd143f5644a"
      },
      "execution_count": 26,
      "outputs": [
        {
          "output_type": "stream",
          "name": "stdout",
          "text": [
            "Epoch 1/10\n",
            "625/625 [==============================] - 56s 85ms/step - loss: 0.6628 - binary_accuracy: 0.6958 - val_loss: 0.6110 - val_binary_accuracy: 0.7696\n",
            "Epoch 2/10\n",
            "625/625 [==============================] - 3s 5ms/step - loss: 0.5439 - binary_accuracy: 0.7983 - val_loss: 0.4942 - val_binary_accuracy: 0.8194\n",
            "Epoch 3/10\n",
            "625/625 [==============================] - 3s 5ms/step - loss: 0.4398 - binary_accuracy: 0.8446 - val_loss: 0.4172 - val_binary_accuracy: 0.8466\n",
            "Epoch 4/10\n",
            "625/625 [==============================] - 3s 4ms/step - loss: 0.3734 - binary_accuracy: 0.8688 - val_loss: 0.3722 - val_binary_accuracy: 0.8586\n",
            "Epoch 5/10\n",
            "625/625 [==============================] - 3s 4ms/step - loss: 0.3326 - binary_accuracy: 0.8791 - val_loss: 0.3443 - val_binary_accuracy: 0.8666\n",
            "Epoch 6/10\n",
            "625/625 [==============================] - 3s 5ms/step - loss: 0.3017 - binary_accuracy: 0.8891 - val_loss: 0.3257 - val_binary_accuracy: 0.8720\n",
            "Epoch 7/10\n",
            "625/625 [==============================] - 3s 4ms/step - loss: 0.2783 - binary_accuracy: 0.8991 - val_loss: 0.3126 - val_binary_accuracy: 0.8740\n",
            "Epoch 8/10\n",
            "625/625 [==============================] - 3s 4ms/step - loss: 0.2601 - binary_accuracy: 0.9059 - val_loss: 0.3037 - val_binary_accuracy: 0.8776\n",
            "Epoch 9/10\n",
            "625/625 [==============================] - 3s 5ms/step - loss: 0.2440 - binary_accuracy: 0.9113 - val_loss: 0.2973 - val_binary_accuracy: 0.8772\n",
            "Epoch 10/10\n",
            "625/625 [==============================] - 3s 4ms/step - loss: 0.2300 - binary_accuracy: 0.9183 - val_loss: 0.2924 - val_binary_accuracy: 0.8788\n"
          ]
        }
      ]
    },
    {
      "cell_type": "code",
      "source": [
        "for epoch in range(epochs):\n",
        "  print(epoch)\n",
        "  print(model.fit(train_ds, validation_data=validation_ds))"
      ],
      "metadata": {
        "colab": {
          "base_uri": "https://localhost:8080/"
        },
        "id": "QnfycYOEsSEx",
        "outputId": "629a7f9a-17dc-4028-8ef9-6f513dd32664"
      },
      "execution_count": 27,
      "outputs": [
        {
          "output_type": "stream",
          "name": "stdout",
          "text": [
            "0\n",
            "625/625 [==============================] - 3s 4ms/step - loss: 0.2167 - binary_accuracy: 0.9219 - val_loss: 0.2898 - val_binary_accuracy: 0.8806\n",
            "<keras.src.callbacks.History object at 0x7bdd708841c0>\n",
            "1\n",
            "625/625 [==============================] - 5s 7ms/step - loss: 0.2058 - binary_accuracy: 0.9257 - val_loss: 0.2879 - val_binary_accuracy: 0.8828\n",
            "<keras.src.callbacks.History object at 0x7bdd70610700>\n",
            "2\n",
            "625/625 [==============================] - 4s 7ms/step - loss: 0.1964 - binary_accuracy: 0.9301 - val_loss: 0.2876 - val_binary_accuracy: 0.8816\n",
            "<keras.src.callbacks.History object at 0x7bdd706105b0>\n",
            "3\n",
            "625/625 [==============================] - 3s 5ms/step - loss: 0.1872 - binary_accuracy: 0.9349 - val_loss: 0.2880 - val_binary_accuracy: 0.8820\n",
            "<keras.src.callbacks.History object at 0x7bdd70564040>\n",
            "4\n",
            "625/625 [==============================] - 3s 4ms/step - loss: 0.1781 - binary_accuracy: 0.9370 - val_loss: 0.2890 - val_binary_accuracy: 0.8816\n",
            "<keras.src.callbacks.History object at 0x7bdd70610940>\n",
            "5\n",
            "625/625 [==============================] - 2s 4ms/step - loss: 0.1693 - binary_accuracy: 0.9426 - val_loss: 0.2910 - val_binary_accuracy: 0.8810\n",
            "<keras.src.callbacks.History object at 0x7bdd70579000>\n",
            "6\n",
            "625/625 [==============================] - 2s 4ms/step - loss: 0.1620 - binary_accuracy: 0.9445 - val_loss: 0.2933 - val_binary_accuracy: 0.8826\n",
            "<keras.src.callbacks.History object at 0x7bdd70610700>\n",
            "7\n",
            "625/625 [==============================] - 3s 5ms/step - loss: 0.1535 - binary_accuracy: 0.9482 - val_loss: 0.2961 - val_binary_accuracy: 0.8814\n",
            "<keras.src.callbacks.History object at 0x7bdd70567250>\n",
            "8\n",
            "625/625 [==============================] - 3s 4ms/step - loss: 0.1479 - binary_accuracy: 0.9509 - val_loss: 0.2996 - val_binary_accuracy: 0.8812\n",
            "<keras.src.callbacks.History object at 0x7bdd70612ce0>\n",
            "9\n",
            "625/625 [==============================] - 3s 4ms/step - loss: 0.1409 - binary_accuracy: 0.9535 - val_loss: 0.3029 - val_binary_accuracy: 0.8810\n",
            "<keras.src.callbacks.History object at 0x7bdd70564070>\n"
          ]
        }
      ]
    },
    {
      "cell_type": "code",
      "source": [
        "#Let us evaluatloss\n",
        "loss, accuracy = model.evaluate(test_ds)\n",
        "print(f\"Loss: {loss}\")\n",
        "print(f\"Accuracy: {accuracy}\")"
      ],
      "metadata": {
        "colab": {
          "base_uri": "https://localhost:8080/"
        },
        "id": "qau5cseMtGXU",
        "outputId": "c61a0352-eb2e-41e5-ea81-58bff649a9ab"
      },
      "execution_count": 28,
      "outputs": [
        {
          "output_type": "stream",
          "name": "stdout",
          "text": [
            "782/782 [==============================] - 4s 5ms/step - loss: 0.3396 - binary_accuracy: 0.8653\n",
            "Loss: 0.3396364748477936\n",
            "Accuracy: 0.8653200268745422\n"
          ]
        }
      ]
    },
    {
      "cell_type": "code",
      "source": [
        "history_dict = history.history\n",
        "history_dict.keys()"
      ],
      "metadata": {
        "colab": {
          "base_uri": "https://localhost:8080/"
        },
        "id": "34WpDONInpzZ",
        "outputId": "79cf0512-90e8-4224-ed2b-28ab87834f75"
      },
      "execution_count": 30,
      "outputs": [
        {
          "output_type": "execute_result",
          "data": {
            "text/plain": [
              "dict_keys(['loss', 'binary_accuracy', 'val_loss', 'val_binary_accuracy'])"
            ]
          },
          "metadata": {},
          "execution_count": 30
        }
      ]
    },
    {
      "cell_type": "code",
      "source": [
        "#Let us do some plotting\n",
        "accuracy = history_dict[\"binary_accuracy\"]\n",
        "validation_accuracy = history_dict[\"val_binary_accuracy\"]\n",
        "loss = history_dict[\"loss\"]\n",
        "validation_loss = history_dict[\"val_loss\"]"
      ],
      "metadata": {
        "id": "t1q7O2VgoaoL"
      },
      "execution_count": 35,
      "outputs": []
    },
    {
      "cell_type": "code",
      "source": [
        "#Plotting the loss metrics\n",
        "epochs = range(1, len(accuracy)+1)\n",
        "plt.plot(epochs, loss, \"bo\", label = \"Training Loss\")\n",
        "plt.plot(epochs, validation_loss, \"b\", label = \"Validation Loss\")\n",
        "plt.title(\"Training and Validation Loss\")\n",
        "plt.xlabel(\"Epochs\")\n",
        "plt.ylabel(\"Accuracy\")\n",
        "plt.legend()\n",
        "plt.show()"
      ],
      "metadata": {
        "colab": {
          "base_uri": "https://localhost:8080/",
          "height": 472
        },
        "id": "lKl-uveXpWwd",
        "outputId": "7b4a0425-2a6e-4992-85e3-32fe6e8b6281"
      },
      "execution_count": 37,
      "outputs": [
        {
          "output_type": "display_data",
          "data": {
            "text/plain": [
              "<Figure size 640x480 with 1 Axes>"
            ],
            "image/png": "[encoded data removed]"
          },
          "metadata": {}
        }
      ]
    },
    {
      "cell_type": "code",
      "source": [
        "#Ploting the accuracy metrics\n",
        "epochs = range(1, len(accuracy)+1)\n",
        "plt.plot(epochs, accuracy, \"bo\", label = \"Trainingg accuracy\")\n",
        "plt.plot(epochs, validation_accuracy, \"r\", label = \"Validation accuracy\")\n",
        "plt.xlabel(\"Epochs\")\n",
        "plt.ylabel(\"Accuracy\")\n",
        "plt.title(\"Accuracy Plots\")\n",
        "plt.legend(loc = \"lower right\")\n",
        "\n",
        "plt.show()"
      ],
      "metadata": {
        "colab": {
          "base_uri": "https://localhost:8080/",
          "height": 472
        },
        "id": "qoqElUqirs6x",
        "outputId": "c14a4ff1-144e-458f-af15-37b1c6ffa602"
      },
      "execution_count": 43,
      "outputs": [
        {
          "output_type": "display_data",
          "data": {
            "text/plain": [
              "<Figure size 640x480 with 1 Axes>"
            ],
            "image/png": "[encoded data removed]"
          },
          "metadata": {}
        }
      ]
    },
    {
      "cell_type": "code",
      "source": [],
      "metadata": {
        "id": "UYl1Lh8rqi4t"
      },
      "execution_count": 34,
      "outputs": []
    },
    {
      "cell_type": "markdown",
      "source": [
        "In this plot, the dots represent the training loss and accuracy, and the solid lines are the validation loss and accuracy.\n",
        "\n",
        "Notice the training loss decreases with each epoch and the training accuracy increases with each epoch. This is expected when using a gradient descent optimization—it should minimize the desired quantity on every iteration.\n",
        "\n",
        "This isn't the case for the validation loss and accuracy—they seem to peak before the training accuracy. This is an example of overfitting: the model performs better on the training data than it does on data it has never seen before. After this point, the model over-optimizes and learns representations specific to the training data that do not generalize to test data.\n",
        "\n",
        "For this particular case, you could prevent overfitting by simply stopping the training when the validation accuracy is no longer increasing. One way to do so is to use the tf.keras.callbacks.EarlyStopping callback."
      ],
      "metadata": {
        "id": "A84Yi_ozuk3k"
      }
    },
    {
      "cell_type": "code",
      "source": [],
      "metadata": {
        "id": "R0sTVSjCumOr"
      },
      "execution_count": null,
      "outputs": []
    },
    {
      "cell_type": "markdown",
      "source": [
        "#Export the model\n",
        "In the code above, you applied the TextVectorization layer to the dataset before feeding text to the model. If you want to make your model capable of processing raw strings (for example, to simplify deploying it), you can include the TextVectorization layer inside your model. To do so, you can create a new model using the weights you just trained"
      ],
      "metadata": {
        "id": "so3klj7muwT-"
      }
    },
    {
      "cell_type": "code",
      "source": [
        "saved_model = tf.keras.Sequential([\n",
        "    vectorize_layer,\n",
        "    model,\n",
        "    layers.Activation(\"sigmoid\")\n",
        "])\n",
        "\n",
        "saved_model.compile(\n",
        "    loss = losses.BinaryCrossentropy(from_logits = False), optimizer = \"adam\", metrics = [\"accuracy\"]\n",
        ")"
      ],
      "metadata": {
        "id": "kIeGUBcFux5x"
      },
      "execution_count": 46,
      "outputs": []
    },
    {
      "cell_type": "code",
      "source": [
        "final_accuracy, final_loss = saved_model.evaluate(raw_testing_dataset)\n",
        "print(f\"Final Accuracy: {final_accuracy}\")\n",
        "print(f\"Final Loss: {final_loss}\")"
      ],
      "metadata": {
        "colab": {
          "base_uri": "https://localhost:8080/"
        },
        "id": "zO0p1t3Cvz2e",
        "outputId": "9cf53cb7-d08f-4a04-ccd5-8ccddb2746fc"
      },
      "execution_count": 47,
      "outputs": [
        {
          "output_type": "stream",
          "name": "stdout",
          "text": [
            "782/782 [==============================] - 4s 5ms/step - loss: 0.5782 - accuracy: 0.5014\n",
            "Final Accuracy: 0.5782091617584229\n",
            "Final Loss: 0.5013599991798401\n"
          ]
        }
      ]
    },
    {
      "cell_type": "code",
      "source": [
        "example_text_for_prediction = tf.constant([\n",
        "  \"The movie was great!\",\n",
        "  \"The movie was okay.\",\n",
        "  \"The movie was terrible...\"\n",
        "  \"I really enjoyed it\"\n",
        "])\n",
        "\n",
        "\n",
        "saved_model.predict(example_text_for_prediction)"
      ],
      "metadata": {
        "colab": {
          "base_uri": "https://localhost:8080/"
        },
        "id": "tDhz7M1Rw1eq",
        "outputId": "dd2caef4-c4e8-491c-8cb7-b11720f971bd"
      },
      "execution_count": 49,
      "outputs": [
        {
          "output_type": "stream",
          "name": "stdout",
          "text": [
            "1/1 [==============================] - 0s 159ms/step\n"
          ]
        },
        {
          "output_type": "execute_result",
          "data": {
            "text/plain": [
              "array([[0.6512475 ],\n",
              "       [0.596991  ],\n",
              "       [0.61206686]], dtype=float32)"
            ]
          },
          "metadata": {},
          "execution_count": 49
        }
      ]
    },
    {
      "cell_type": "code",
      "source": [],
      "metadata": {
        "id": "LX3fXTklxBR1"
      },
      "execution_count": null,
      "outputs": []
    }
  ]
}