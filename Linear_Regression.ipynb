{
  "nbformat": 4,
  "nbformat_minor": 0,
  "metadata": {
    "colab": {
      "provenance": [],
      "authorship_tag": "ABX9TyNG7zbGS9NVW3X/iYu2pLIJ",
      "include_colab_link": true
    },
    "kernelspec": {
      "name": "python3",
      "display_name": "Python 3"
    },
    "language_info": {
      "name": "python"
    }
  },
  "cells": [
    {
      "cell_type": "markdown",
      "metadata": {
        "id": "view-in-github",
        "colab_type": "text"
      },
      "source": [
        "<a href=\"https://colab.research.google.com/github/awaaat/Machine_learning-Deep_learning/blob/main/Linear_Regression.ipynb\" target=\"_parent\"><img src=\"https://colab.research.google.com/assets/colab-badge.svg\" alt=\"Open In Colab\"/></a>"
      ]
    },
    {
      "cell_type": "code",
      "source": [
        "import numpy as np"
      ],
      "metadata": {
        "id": "drWmDm4sV6Ae"
      },
      "execution_count": 25,
      "outputs": []
    },
    {
      "cell_type": "code",
      "execution_count": 26,
      "metadata": {
        "colab": {
          "base_uri": "https://localhost:8080/"
        },
        "id": "3zxq5naIymkg",
        "outputId": "8f3cb4ba-bb2f-4231-93c6-f3c733078efc"
      },
      "outputs": [
        {
          "output_type": "stream",
          "name": "stdout",
          "text": [
            "10\n",
            "10\n"
          ]
        }
      ],
      "source": [
        "#Estimating the coefficient\n",
        "#We will dbe defininga function\n",
        "X = np.array([0,1,2,3,4,5,6,7,8,9])\n",
        "y = np.array([1,3,2,5,7,8,8,9,10,12])\n",
        "print(X.size)\n",
        "print(y.size)"
      ]
    },
    {
      "cell_type": "code",
      "source": [
        "def estimate_coeff(X, y):\n",
        "  n = np.size(X)\n",
        "  #find the means of X and y\n",
        "  mean_X = np.mean(X)\n",
        "  mean_y = np.mean(y)\n",
        "  #We then find cross-deviation and deviation about x\n",
        "  #1Cross-Deviation\n",
        "  SS_Xy = np.sum(X*y) - (n*mean_X*mean_y)\n",
        "  #Deviation about X\n",
        "  SS_XX = np.sum(X*X) - (n*mean_X * mean_X)\n",
        "  #And the, we finally calculate the regression coefficients\n",
        "  #b1 = Cross deviation/Deviation about X\n",
        "  b1 = (SS_Xy/SS_XX)\n",
        "  #b0 = mean of y - (meann of x * b1)\n",
        "  b0 = mean_y - (b1*mean_X)\n",
        "  coefficients = print(f\"bo: {b0}\",  f\"b1: {b1}\")\n",
        "  return(coefficients)\n",
        "\n",
        "\n",
        "estimate_coeff(X, y)"
      ],
      "metadata": {
        "colab": {
          "base_uri": "https://localhost:8080/"
        },
        "id": "Ro0pgC_sYDgf",
        "outputId": "a96e6839-15f7-42fd-bada-e84cf21b8746"
      },
      "execution_count": 29,
      "outputs": [
        {
          "output_type": "stream",
          "name": "stdout",
          "text": [
            "bo: 1.2363636363636363 b1: 1.1696969696969697\n"
          ]
        }
      ]
    },
    {
      "cell_type": "markdown",
      "source": [
        "#Plotting Regression Line Function"
      ],
      "metadata": {
        "id": "2BWjcy_qbnEn"
      }
    },
    {
      "cell_type": "code",
      "source": [
        "import matplotlib.pyplot as plt\n",
        "def plot_regression(X, y):\n",
        "  # plotting the actual points as scatter plot\n",
        "  plt.scatter(X, y, c = \"r\", s = 30, marker = \"o\")\n",
        "  # predicted response vector\n",
        "  b0 = 1.2363636363636363\n",
        "  b1 = 1.1696969696969697\n",
        "  y_pred = b0 + b1*X\n",
        "  plt.plot(y_pred, c = \"g\")\n",
        "  plt.xlabel(\"X\")\n",
        "  plt.ylabel(\"y\")\n",
        "  plt.show()\n",
        "\n",
        "\n",
        "plot_regression(X, y)"
      ],
      "metadata": {
        "colab": {
          "base_uri": "https://localhost:8080/",
          "height": 449
        },
        "id": "wOimfOwaboGd",
        "outputId": "ed2fedeb-100c-425d-f9c6-ba9d17e85799"
      },
      "execution_count": 30,
      "outputs": [
        {
          "output_type": "display_data",
          "data": {
            "text/plain": [
              "<Figure size 640x480 with 1 Axes>"
            ],
            "image/png": "[encoded data removed]"
          },
          "metadata": {}
        }
      ]
    }
  ]
}