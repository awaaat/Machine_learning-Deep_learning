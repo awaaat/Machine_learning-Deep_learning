{
  "nbformat": 4,
  "nbformat_minor": 0,
  "metadata": {
    "colab": {
      "provenance": [],
      "authorship_tag": "ABX9TyOC6D7caQmSawKegVUKN6U0",
      "include_colab_link": true
    },
    "kernelspec": {
      "name": "python3",
      "display_name": "Python 3"
    },
    "language_info": {
      "name": "python"
    }
  },
  "cells": [
    {
      "cell_type": "markdown",
      "metadata": {
        "id": "view-in-github",
        "colab_type": "text"
      },
      "source": [
        "<a href=\"https://colab.research.google.com/github/awaaat/Machine_learning-Deep_learning/blob/main/Tensorflow_advanced_CNN.ipynb\" target=\"_parent\"><img src=\"https://colab.research.google.com/assets/colab-badge.svg\" alt=\"Open In Colab\"/></a>"
      ]
    },
    {
      "cell_type": "markdown",
      "source": [
        "#Convolutional Neural Networks"
      ],
      "metadata": {
        "id": "auQMdbuX-gpB"
      }
    },
    {
      "cell_type": "code",
      "execution_count": null,
      "metadata": {
        "id": "UiMEKxeK-aJV"
      },
      "outputs": [],
      "source": [
        "#We are using the same mnist digit classification problem\n",
        "import numpy as np\n",
        "from tensorflow.keras.models import Sequential\n",
        "from tensorflow.keras.layers import Activation, Dense, Dropout\n",
        "from tensorflow.keras.layers import Conv2D, MaxPooling2D, Flatten\n",
        "from tensorflow.keras.utils import to_categorical, plot_model\n",
        "from tensorflow.keras.datasets import mnist"
      ]
    },
    {
      "cell_type": "code",
      "source": [
        "(X_train, y_train), (X_test, y_test) = mnist.load_data()\n",
        "#See the number of labels\n",
        "num_labels = len(np.unique(y_train))\n",
        "print(num_labels)\n",
        "#Converting the labels to one-hot vector\n",
        "y_train = to_categorical(y_train)\n",
        "y_test = to_categorical(y_test)\n",
        "#Define the dimensions of the input image\n",
        "image_size = X_train.shape[1]\n",
        "#Let us do resizing and normalizing\n",
        "X_train = np.reshape(X_train, [-1, image_size, image_size, 1])\n",
        "X_test = np.reshape(X_test, [-1, image_size, image_size, 1])\n",
        "#Then, we are going to change the train set to float\n",
        "X_train = X_train.astype(\"float32\")/255\n",
        "X_test = X_test.astype(\"float32\")/255\n",
        "#Let us now consider the network parameters. Please note that the image is processed as it is (Square grascale)\n",
        "input_shape = (image_size, image_size, 1)\n",
        "batch_size = 128\n",
        "kernel_size = 3\n",
        "pool_size = 2\n",
        "filters = 64\n",
        "dropout = 0.2"
      ],
      "metadata": {
        "id": "uvnJ3Gx5-lad"
      },
      "execution_count": null,
      "outputs": []
    },
    {
      "cell_type": "code",
      "source": [
        "#Please note that our model will be a stack of CNN-ReLU-MaxPooling\n",
        "model = Sequential()\n",
        "#Layer_1\n",
        "model.add(Conv2D(filters = filters, kernel_size = kernel_size, activation = \"relu\", input_shape = input_shape))\n",
        "model.add(MaxPooling2D(pool_size))\n",
        "#Layer_2\n",
        "model.add(Conv2D(filters = filters, kernel_size = kernel_size, activation = \"relu\"))\n",
        "model.add(MaxPooling2D(pool_size))\n",
        "#Yet another layet\n",
        "model.add(Conv2D(filters = filters, kernel_size = kernel_size, activation = \"relu\"))\n",
        "model.add(Flatten())\n",
        "#We add dropout as a regulizer\n",
        "model.add(Dropout(dropout))\n",
        "\"\"\"Then, here comes our output layer\"\"\" # output layer is 10-dim one-hot vector\n",
        "model.add(Dense(num_labels))\n",
        "model.add(Activation(\"softmax\"))\n",
        "model.summary()\n",
        "plot_model(model, to_file = \"cnn_mnist.png\", show_shapes = True)\n",
        "# loss function for one-hot vector\n",
        "# use of adam optimizer\n",
        "# accuracy is good metric for classification tasks\n",
        "model.compile(loss = \"categorical_crossentropy\", optimizer = \"adam\", metrics = [\"accuracy\"])\n",
        "#Meet in the next cell for training"
      ],
      "metadata": {
        "id": "MKdCjWaoEh_0"
      },
      "execution_count": null,
      "outputs": []
    },
    {
      "cell_type": "code",
      "source": [
        "#Let us train the neural network\n",
        "model.fit(X_train, y_train, epochs = 10, batch_size = batch_size)\n",
        "_, acc = model.evaluate(X_test, y_test, batch_size = batch_size, verbose = 0)\n",
        "print(\"\\nTest Accuracy: %.1f$$\" % (100.0 * acc))"
      ],
      "metadata": {
        "colab": {
          "base_uri": "https://localhost:8080/"
        },
        "id": "O9qGMY_fJ4Ff",
        "outputId": "2e17a2f9-68a9-485f-8059-8051f928e5dd"
      },
      "execution_count": null,
      "outputs": [
        {
          "output_type": "stream",
          "name": "stdout",
          "text": [
            "Epoch 1/10\n",
            "469/469 [==============================] - 69s 146ms/step - loss: 0.2531 - accuracy: 0.9245\n",
            "Epoch 2/10\n",
            "469/469 [==============================] - 67s 144ms/step - loss: 0.0631 - accuracy: 0.9801\n",
            "Epoch 3/10\n",
            "469/469 [==============================] - 67s 144ms/step - loss: 0.0440 - accuracy: 0.9860\n",
            "Epoch 4/10\n",
            "469/469 [==============================] - 68s 145ms/step - loss: 0.0379 - accuracy: 0.9883\n",
            "Epoch 5/10\n",
            "469/469 [==============================] - 67s 144ms/step - loss: 0.0300 - accuracy: 0.9905\n",
            "Epoch 6/10\n",
            "469/469 [==============================] - 67s 143ms/step - loss: 0.0264 - accuracy: 0.9916\n",
            "Epoch 7/10\n",
            "469/469 [==============================] - 69s 147ms/step - loss: 0.0216 - accuracy: 0.9929\n",
            "Epoch 8/10\n",
            "469/469 [==============================] - 68s 146ms/step - loss: 0.0201 - accuracy: 0.9933\n",
            "Epoch 9/10\n",
            "378/469 [=======================>......] - ETA: 13s - loss: 0.0170 - accuracy: 0.9944"
          ]
        }
      ]
    },
    {
      "cell_type": "code",
      "source": [
        "predictions  = model.predict(np.array([X_test[1]], dtype = float))\n",
        "print(predictions)\n",
        "print(y_test[1])"
      ],
      "metadata": {
        "id": "CW2bVxsiPhhL"
      },
      "execution_count": null,
      "outputs": []
    },
    {
      "cell_type": "code",
      "source": [
        "import random\n",
        "import matplotlib.pyplot as plt\n",
        "test_indices = random.sample(range(len(X_test)), 25)\n",
        "for i, index in enumerate(test_indices):\n",
        "  images = X_test[index]\n",
        "  labels = y_test[index]\n",
        "  images_reshaped = X_test[index].reshape(image_size, image_size)\n",
        "  predicted_label = np.argmax(model.predict(np.expand_dims(images, axis = 0)))\n",
        "  actual_label = np.argmax(labels)\n",
        "  plt.figure(figsize = (5, 5))\n",
        "  plt.subplot(5, 5, i+1)\n",
        "  plt.imshow(images, cmap = \"gray\")\n",
        "  plt.title(f\"Actual: {actual_label}\\nPredicted: {predicted_label}\")\n",
        "  plt.axis(\"off\")\n",
        "\n",
        "\n",
        "plt.show()"
      ],
      "metadata": {
        "id": "KHTf8QvzgARN"
      },
      "execution_count": null,
      "outputs": []
    }
  ]
}