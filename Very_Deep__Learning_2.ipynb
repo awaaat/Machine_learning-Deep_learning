{
  "nbformat": 4,
  "nbformat_minor": 0,
  "metadata": {
    "colab": {
      "provenance": [],
      "authorship_tag": "ABX9TyOfyhS0U42jEdJU+48fC6XA",
      "include_colab_link": true
    },
    "kernelspec": {
      "name": "python3",
      "display_name": "Python 3"
    },
    "language_info": {
      "name": "python"
    }
  },
  "cells": [
    {
      "cell_type": "markdown",
      "metadata": {
        "id": "view-in-github",
        "colab_type": "text"
      },
      "source": [
        "<a href=\"https://colab.research.google.com/github/awaaat/Machine_learning-Deep_learning/blob/main/Very_Deep__Learning_2.ipynb\" target=\"_parent\"><img src=\"https://colab.research.google.com/assets/colab-badge.svg\" alt=\"Open In Colab\"/></a>"
      ]
    },
    {
      "cell_type": "markdown",
      "source": [
        "#Linear Neural Networks for Regression"
      ],
      "metadata": {
        "id": "fhTqb6lgwTxE"
      }
    },
    {
      "cell_type": "code",
      "source": [
        "#save\n",
        "import collections\n",
        "import hashlib\n",
        "import inspect\n",
        "import math\n",
        "import os\n",
        "import random\n",
        "import re\n",
        "import shutil\n",
        "import sys\n",
        "import tarfile\n",
        "import time\n",
        "import zipfile\n",
        "from collections import defaultdict\n",
        "import pandas as pd\n",
        "import requests\n",
        "from IPython import display\n",
        "from matplotlib import pyplot as plt\n",
        "from matplotlib_inline import backend_inline\n",
        "d2l = sys.modules[__name__]"
      ],
      "metadata": {
        "id": "mRZM0x7Ll6a-"
      },
      "execution_count": null,
      "outputs": []
    },
    {
      "cell_type": "code",
      "source": [
        "import numpy as np\n",
        "import torch\n",
        "import torchvision\n",
        "from PIL import Image\n",
        "from scipy.spatial import distance_matrix\n",
        "from torch import nn\n",
        "from torch.nn import functional as F\n",
        "from torchvision import transforms"
      ],
      "metadata": {
        "id": "VCGwuOZrl_Dk"
      },
      "execution_count": null,
      "outputs": []
    }
  ]
}