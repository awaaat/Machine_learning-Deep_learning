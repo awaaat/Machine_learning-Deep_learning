{
 "cells": [
  {
   "cell_type": "code",
   "execution_count": 1,
   "metadata": {},
   "outputs": [],
   "source": [
    "# Import necessary libraries\n",
    "import pandas as pd\n",
    "import numpy as np\n",
    "\n",
    "# Enable experimental IterativeImputer\n",
    "from sklearn.experimental import enable_iterative_imputer  # noqa\n",
    "from sklearn.impute import IterativeImputer\n",
    "from sklearn.impute import KNNImputer\n",
    "from sklearn.linear_model import LinearRegression\n",
    "\n",
    "# Third-party imports\n",
    "import seaborn as sns\n",
    "import matplotlib.pyplot as plt\n",
    "\n",
    "# Local application/library-specific imports\n",
    "import data_ingestion\n",
    "import parameter_dictionary\n",
    "import imputation_methods\n",
    "from parameter_dictionary import ConfigParameters\n",
    "from raw_data_processor import RawDataProcessor\n",
    "from data_cleaning_and_transformation import DataCleanerAndTransformer\n"
   ]
  },
  {
   "cell_type": "code",
   "execution_count": 2,
   "metadata": {},
   "outputs": [
    {
     "name": "stderr",
     "output_type": "stream",
     "text": [
      "2024-11-22 21:28:11,319 : data_ingestion - INFO - CSV File Loaded Successfully\n",
      "2024-11-22 21:28:11,328 : raw_data_processor.RawDataProcessor - INFO - Successfully Loaded Data \n",
      "2024-11-22 21:28:11,339 : raw_data_processor.RawDataProcessor - INFO - Successfully Renamed Specified Columns \n",
      "2024-11-22 21:28:11,372 : raw_data_processor.RawDataProcessor - INFO - Successfully Dropped Rows with Null Values\n",
      "2024-11-22 21:28:21,118 : raw_data_processor.RawDataProcessor - INFO - Successfully Extracted and created 'account_name' column\n",
      "2024-11-22 21:28:26,236 : raw_data_processor.RawDataProcessor - INFO -  Successfully Created Column 'account_condition'\n",
      "2024-11-22 21:28:37,950 : raw_data_processor.RawDataProcessor - INFO - Successfully Extracted and Created Column 'orders done'. \n",
      "2024-11-22 21:28:47,981 : raw_data_processor.RawDataProcessor - INFO - Successfully Created Column 'account_rating'. \n",
      "2024-11-22 21:28:53,004 : raw_data_processor.RawDataProcessor - INFO - Successfully Classified Accounts as Bid/Take\n",
      "2024-11-22 21:28:53,114 : raw_data_processor.RawDataProcessor - INFO - Successfully Transformed Price Column\n",
      "2024-11-22 21:28:53,160 : data_cleaning_and_transformation.DataCleaningAndTransformation - INFO - Successfully Transformed Columns\n",
      "2024-11-22 21:28:53,221 : data_cleaning_and_transformation.DataCleaningAndTransformation - INFO - Successfully removed duplicate rows and reset the index.\n",
      "2024-11-22 21:28:53,822 : data_cleaning_and_transformation.DataCleaningAndTransformation - INFO - Successfully updated the 'rating' column based on specified conditions.\n",
      "2024-11-22 21:28:53,847 : data_cleaning_and_transformation.DataCleaningAndTransformation - INFO - Successfully replaced zeros in column 'price' with the median.\n",
      "2024-11-22 21:28:53,872 : data_cleaning_and_transformation.DataCleaningAndTransformation - INFO - Successfully dropped rows with missing values in 'name' column.\n"
     ]
    }
   ],
   "source": [
    "data_getter = DataCleanerAndTransformer(parameter_dict=parameter_dictionary)\n",
    "df0 = data_getter.clean_and_transform()"
   ]
  },
  {
   "cell_type": "code",
   "execution_count": 5,
   "metadata": {},
   "outputs": [
    {
     "data": {
      "text/html": [
       "<div>\n",
       "<style scoped>\n",
       "    .dataframe tbody tr th:only-of-type {\n",
       "        vertical-align: middle;\n",
       "    }\n",
       "\n",
       "    .dataframe tbody tr th {\n",
       "        vertical-align: top;\n",
       "    }\n",
       "\n",
       "    .dataframe thead th {\n",
       "        text-align: right;\n",
       "    }\n",
       "</style>\n",
       "<table border=\"1\" class=\"dataframe\">\n",
       "  <thead>\n",
       "    <tr style=\"text-align: right;\">\n",
       "      <th></th>\n",
       "      <th>name</th>\n",
       "      <th>orders_done</th>\n",
       "      <th>condition</th>\n",
       "      <th>rating</th>\n",
       "      <th>bid/take</th>\n",
       "      <th>price</th>\n",
       "    </tr>\n",
       "  </thead>\n",
       "  <tbody>\n",
       "    <tr>\n",
       "      <th>0</th>\n",
       "      <td>Edusson</td>\n",
       "      <td>0.0</td>\n",
       "      <td>new</td>\n",
       "      <td>5.0</td>\n",
       "      <td>bid</td>\n",
       "      <td>50000.0</td>\n",
       "    </tr>\n",
       "  </tbody>\n",
       "</table>\n",
       "</div>"
      ],
      "text/plain": [
       "      name  orders_done condition  rating bid/take    price\n",
       "0  Edusson          0.0       new     5.0      bid  50000.0"
      ]
     },
     "execution_count": 5,
     "metadata": {},
     "output_type": "execute_result"
    }
   ],
   "source": [
    "df0.head(1)"
   ]
  },
  {
   "cell_type": "code",
   "execution_count": 3,
   "metadata": {},
   "outputs": [
    {
     "data": {
      "text/html": [
       "<div>\n",
       "<style scoped>\n",
       "    .dataframe tbody tr th:only-of-type {\n",
       "        vertical-align: middle;\n",
       "    }\n",
       "\n",
       "    .dataframe tbody tr th {\n",
       "        vertical-align: top;\n",
       "    }\n",
       "\n",
       "    .dataframe thead th {\n",
       "        text-align: right;\n",
       "    }\n",
       "</style>\n",
       "<table border=\"1\" class=\"dataframe\">\n",
       "  <thead>\n",
       "    <tr style=\"text-align: right;\">\n",
       "      <th></th>\n",
       "      <th>count</th>\n",
       "      <th>mean</th>\n",
       "      <th>std</th>\n",
       "      <th>min</th>\n",
       "      <th>25%</th>\n",
       "      <th>50%</th>\n",
       "      <th>75%</th>\n",
       "      <th>max</th>\n",
       "    </tr>\n",
       "  </thead>\n",
       "  <tbody>\n",
       "    <tr>\n",
       "      <th>orders_done</th>\n",
       "      <td>4565.0</td>\n",
       "      <td>568.658708</td>\n",
       "      <td>1598.566291</td>\n",
       "      <td>0.0</td>\n",
       "      <td>2.000</td>\n",
       "      <td>65.0</td>\n",
       "      <td>400.0</td>\n",
       "      <td>54000.0</td>\n",
       "    </tr>\n",
       "    <tr>\n",
       "      <th>rating</th>\n",
       "      <td>4565.0</td>\n",
       "      <td>4.743146</td>\n",
       "      <td>0.679157</td>\n",
       "      <td>0.0</td>\n",
       "      <td>4.815</td>\n",
       "      <td>4.9</td>\n",
       "      <td>5.0</td>\n",
       "      <td>5.0</td>\n",
       "    </tr>\n",
       "    <tr>\n",
       "      <th>price</th>\n",
       "      <td>4565.0</td>\n",
       "      <td>130974.404819</td>\n",
       "      <td>273382.640567</td>\n",
       "      <td>680.0</td>\n",
       "      <td>45000.000</td>\n",
       "      <td>70000.0</td>\n",
       "      <td>133000.0</td>\n",
       "      <td>11000000.0</td>\n",
       "    </tr>\n",
       "  </tbody>\n",
       "</table>\n",
       "</div>"
      ],
      "text/plain": [
       "              count           mean            std    min        25%      50%  \\\n",
       "orders_done  4565.0     568.658708    1598.566291    0.0      2.000     65.0   \n",
       "rating       4565.0       4.743146       0.679157    0.0      4.815      4.9   \n",
       "price        4565.0  130974.404819  273382.640567  680.0  45000.000  70000.0   \n",
       "\n",
       "                  75%         max  \n",
       "orders_done     400.0     54000.0  \n",
       "rating            5.0         5.0  \n",
       "price        133000.0  11000000.0  "
      ]
     },
     "execution_count": 3,
     "metadata": {},
     "output_type": "execute_result"
    }
   ],
   "source": [
    "df0.describe().T"
   ]
  },
  {
   "cell_type": "code",
   "execution_count": 27,
   "metadata": {},
   "outputs": [
    {
     "data": {
      "text/plain": [
       "name\n",
       "Verbit                         1\n",
       "Residential Proxies            1\n",
       "GoTranscript                   2\n",
       "ProWritersPro                  2\n",
       "Hirewriters                    2\n",
       "Topwriterlist                  3\n",
       "Crowdsurf                      5\n",
       "Scribie                        6\n",
       "Enemployed Professor           6\n",
       "Transcription Staff            6\n",
       "Essaywriters                   6\n",
       "Studydaddy                     6\n",
       "24writers                      7\n",
       "Course Hero                    8\n",
       "Transcribe me                  8\n",
       "ProWritersTime                 9\n",
       "Bluecorp Service              10\n",
       "Quality Writers               12\n",
       "Sweetstudy                    15\n",
       "Atlantic Writers              15\n",
       "Transtutors                   16\n",
       "Chat from home                18\n",
       "Studygate                     18\n",
       "Focus Forward                 19\n",
       "Fiverr                        22\n",
       "Livingstone Research          23\n",
       "Simpletense                   24\n",
       "Remotask                      26\n",
       "VIP Writers                   27\n",
       "UvoCorp                       33\n",
       "CoudWorkers                   36\n",
       "Writezillas                   38\n",
       "Textbroker                    44\n",
       "Writing Creek                 44\n",
       "Texting Factory               47\n",
       "Freelance Writing center      49\n",
       "Nerdy Turtlez                 63\n",
       "TSM Group                     79\n",
       "Echolabs                      91\n",
       "4writers                      91\n",
       "Essayshark                   111\n",
       "Studybay                     154\n",
       "Writershub                   172\n",
       "Writerslabs                  259\n",
       "Writerbay                    300\n",
       "Writedom                     304\n",
       "Essaypro                     336\n",
       "Academia Research            349\n",
       "Edusson                      619\n",
       "Studypool                   1023\n",
       "Name: name, dtype: int64"
      ]
     },
     "execution_count": 27,
     "metadata": {},
     "output_type": "execute_result"
    }
   ],
   "source": [
    "df0.groupby('name')['name'].count().sort_values(ascending=True)\n"
   ]
  },
  {
   "cell_type": "code",
   "execution_count": 13,
   "metadata": {},
   "outputs": [
    {
     "data": {
      "text/plain": [
       "name           0\n",
       "orders_done    0\n",
       "condition      0\n",
       "rating         0\n",
       "bid/take       0\n",
       "price          0\n",
       "dtype: int64"
      ]
     },
     "execution_count": 13,
     "metadata": {},
     "output_type": "execute_result"
    }
   ],
   "source": [
    "df0.isnull().sum()"
   ]
  },
  {
   "cell_type": "code",
   "execution_count": 12,
   "metadata": {},
   "outputs": [
    {
     "data": {
      "text/plain": [
       "0.392924272399192"
      ]
     },
     "execution_count": 12,
     "metadata": {},
     "output_type": "execute_result"
    }
   ],
   "source": [
    "\n",
    "df0['orders_done'].corr(df0['price'])"
   ]
  },
  {
   "cell_type": "code",
   "execution_count": 10,
   "metadata": {},
   "outputs": [
    {
     "data": {
      "text/plain": [
       "0.05856452885057846"
      ]
     },
     "execution_count": 10,
     "metadata": {},
     "output_type": "execute_result"
    }
   ],
   "source": [
    "\n",
    "df0['rating'].corr(df0['price'])"
   ]
  },
  {
   "cell_type": "code",
   "execution_count": null,
   "metadata": {},
   "outputs": [],
   "source": []
  }
 ],
 "metadata": {
  "kernelspec": {
   "display_name": "Python 3",
   "language": "python",
   "name": "python3"
  },
  "language_info": {
   "codemirror_mode": {
    "name": "ipython",
    "version": 3
   },
   "file_extension": ".py",
   "mimetype": "text/x-python",
   "name": "python",
   "nbconvert_exporter": "python",
   "pygments_lexer": "ipython3",
   "version": "3.12.1"
  }
 },
 "nbformat": 4,
 "nbformat_minor": 2
}
