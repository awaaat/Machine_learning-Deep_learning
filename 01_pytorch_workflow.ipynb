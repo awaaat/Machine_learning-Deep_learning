{
  "nbformat": 4,
  "nbformat_minor": 0,
  "metadata": {
    "colab": {
      "provenance": [],
      "authorship_tag": "ABX9TyOHWyKUFsZBIU0psAJMHxCu",
      "include_colab_link": true
    },
    "kernelspec": {
      "name": "python3",
      "display_name": "Python 3"
    },
    "language_info": {
      "name": "python"
    }
  },
  "cells": [
    {
      "cell_type": "markdown",
      "metadata": {
        "id": "view-in-github",
        "colab_type": "text"
      },
      "source": [
        "<a href=\"https://colab.research.google.com/github/awaaat/Machine_learning-Deep_learning/blob/main/01_pytorch_workflow.ipynb\" target=\"_parent\"><img src=\"https://colab.research.google.com/assets/colab-badge.svg\" alt=\"Open In Colab\"/></a>"
      ]
    },
    {
      "cell_type": "markdown",
      "source": [
        "#We are going to perform the neccessary ML Steps, including data preprocessing, building a model, fitting it, making predictions with it, and evaluating it. Lastly, saving it\n"
      ],
      "metadata": {
        "id": "1kwNhwdaDUfk"
      }
    },
    {
      "cell_type": "code",
      "source": [
        "import torch\n",
        "from torch import nn\n",
        "import matplotlib.pyplot as plt"
      ],
      "metadata": {
        "id": "MlQdg6YvDqRr"
      },
      "execution_count": 2,
      "outputs": []
    },
    {
      "cell_type": "code",
      "source": [
        "torch.__version__"
      ],
      "metadata": {
        "colab": {
          "base_uri": "https://localhost:8080/",
          "height": 35
        },
        "id": "E6MEqli2ERaw",
        "outputId": "29603aee-27c9-4751-bdc4-2dfc29cc3197"
      },
      "execution_count": 3,
      "outputs": [
        {
          "output_type": "execute_result",
          "data": {
            "text/plain": [
              "'2.1.0+cu121'"
            ],
            "application/vnd.google.colaboratory.intrinsic+json": {
              "type": "string"
            }
          },
          "metadata": {},
          "execution_count": 3
        }
      ]
    },
    {
      "cell_type": "markdown",
      "source": [
        "#Data Preparation and loading\n",
        "a)we start with a regression model with known data\n",
        "\n"
      ],
      "metadata": {
        "id": "QyyVGcXhEiod"
      }
    },
    {
      "cell_type": "code",
      "source": [
        "#1Step 1: Create known variables\n",
        "bias = 0.3\n",
        "weight = 0.7\n",
        "#create\n",
        "start = 0\n",
        "end = 1\n",
        "step = 0.02\n",
        "#Recap\n",
        "#The Linear regression formula is y = a + bX. In this case, bias  = a, and weight = b\n",
        "X = torch.arange(start, end, step).unsqueeze(dim = 1)\n",
        "#y = a + bX\n",
        "y = bias + weight * X\n",
        "\n",
        "\n",
        "view = (X[:10], y[:10], len(X), len(y))\n",
        "print(view)"
      ],
      "metadata": {
        "colab": {
          "base_uri": "https://localhost:8080/"
        },
        "id": "9dVKcQQKEnSQ",
        "outputId": "1afdbf89-8c5d-4f35-b6ec-e3c1c0e651cf"
      },
      "execution_count": 4,
      "outputs": [
        {
          "output_type": "stream",
          "name": "stdout",
          "text": [
            "(tensor([[0.0000],\n",
            "        [0.0200],\n",
            "        [0.0400],\n",
            "        [0.0600],\n",
            "        [0.0800],\n",
            "        [0.1000],\n",
            "        [0.1200],\n",
            "        [0.1400],\n",
            "        [0.1600],\n",
            "        [0.1800]]), tensor([[0.3000],\n",
            "        [0.3140],\n",
            "        [0.3280],\n",
            "        [0.3420],\n",
            "        [0.3560],\n",
            "        [0.3700],\n",
            "        [0.3840],\n",
            "        [0.3980],\n",
            "        [0.4120],\n",
            "        [0.4260]]), 50, 50)\n"
          ]
        }
      ]
    },
    {
      "cell_type": "markdown",
      "source": [
        "#Splitting data into traing and test sets"
      ],
      "metadata": {
        "id": "dcyf1CrwLNNN"
      }
    },
    {
      "cell_type": "markdown",
      "source": [
        "#Splitting data into training set and testset"
      ],
      "metadata": {
        "id": "0IBhl1QkJmyB"
      }
    },
    {
      "cell_type": "code",
      "source": [
        "#1create a train/test split\n",
        "\n",
        "#we take 80% of x as :\n",
        "train_split = int(0.8*len(X)) #This translates to 40 samples of X\n",
        "\n",
        "X_train, y_train = X[:train_split], y[:train_split]\n",
        "X_test, y_test = X[train_split:], y[train_split:]\n",
        "print(len(X_train), len(y_train), len(X_test), len(y_test))"
      ],
      "metadata": {
        "colab": {
          "base_uri": "https://localhost:8080/"
        },
        "id": "CRpZotvXJtJ8",
        "outputId": "d8046160-5573-445e-b0d2-0e6a1ed41db7"
      },
      "execution_count": 5,
      "outputs": [
        {
          "output_type": "stream",
          "name": "stdout",
          "text": [
            "40 40 10 10\n"
          ]
        }
      ]
    },
    {
      "cell_type": "markdown",
      "source": [
        "#Wait a minute... How might we best visualize out data? Visualize, visualize,, visualize\n"
      ],
      "metadata": {
        "id": "Qe35EY3sPZKW"
      }
    },
    {
      "cell_type": "code",
      "source": [
        "print(X_train, y_train)"
      ],
      "metadata": {
        "colab": {
          "base_uri": "https://localhost:8080/"
        },
        "id": "p9RWZIgLPhSI",
        "outputId": "cc3e1425-840b-429f-fa64-b33d7e6479a7"
      },
      "execution_count": 6,
      "outputs": [
        {
          "output_type": "stream",
          "name": "stdout",
          "text": [
            "tensor([[0.0000],\n",
            "        [0.0200],\n",
            "        [0.0400],\n",
            "        [0.0600],\n",
            "        [0.0800],\n",
            "        [0.1000],\n",
            "        [0.1200],\n",
            "        [0.1400],\n",
            "        [0.1600],\n",
            "        [0.1800],\n",
            "        [0.2000],\n",
            "        [0.2200],\n",
            "        [0.2400],\n",
            "        [0.2600],\n",
            "        [0.2800],\n",
            "        [0.3000],\n",
            "        [0.3200],\n",
            "        [0.3400],\n",
            "        [0.3600],\n",
            "        [0.3800],\n",
            "        [0.4000],\n",
            "        [0.4200],\n",
            "        [0.4400],\n",
            "        [0.4600],\n",
            "        [0.4800],\n",
            "        [0.5000],\n",
            "        [0.5200],\n",
            "        [0.5400],\n",
            "        [0.5600],\n",
            "        [0.5800],\n",
            "        [0.6000],\n",
            "        [0.6200],\n",
            "        [0.6400],\n",
            "        [0.6600],\n",
            "        [0.6800],\n",
            "        [0.7000],\n",
            "        [0.7200],\n",
            "        [0.7400],\n",
            "        [0.7600],\n",
            "        [0.7800]]) tensor([[0.3000],\n",
            "        [0.3140],\n",
            "        [0.3280],\n",
            "        [0.3420],\n",
            "        [0.3560],\n",
            "        [0.3700],\n",
            "        [0.3840],\n",
            "        [0.3980],\n",
            "        [0.4120],\n",
            "        [0.4260],\n",
            "        [0.4400],\n",
            "        [0.4540],\n",
            "        [0.4680],\n",
            "        [0.4820],\n",
            "        [0.4960],\n",
            "        [0.5100],\n",
            "        [0.5240],\n",
            "        [0.5380],\n",
            "        [0.5520],\n",
            "        [0.5660],\n",
            "        [0.5800],\n",
            "        [0.5940],\n",
            "        [0.6080],\n",
            "        [0.6220],\n",
            "        [0.6360],\n",
            "        [0.6500],\n",
            "        [0.6640],\n",
            "        [0.6780],\n",
            "        [0.6920],\n",
            "        [0.7060],\n",
            "        [0.7200],\n",
            "        [0.7340],\n",
            "        [0.7480],\n",
            "        [0.7620],\n",
            "        [0.7760],\n",
            "        [0.7900],\n",
            "        [0.8040],\n",
            "        [0.8180],\n",
            "        [0.8320],\n",
            "        [0.8460]])\n"
          ]
        }
      ]
    },
    {
      "cell_type": "markdown",
      "source": [
        "#Let us Visualize, visualize, visualize (\"\"Motto\"\")"
      ],
      "metadata": {
        "id": "Vb_v--8BQEYB"
      }
    },
    {
      "cell_type": "code",
      "source": [
        "import matplotlib.pyplot as plt\n",
        "\n",
        "\n",
        "def plot_predictions(\n",
        "    train_data = X_train,\n",
        "    train_labels = y_train,\n",
        "    test_data = X_test,\n",
        "    test_labels = y_test,\n",
        "    predictions = None):\n",
        "\n",
        "#Now we plot training data, test data and then compare predictions\n",
        "  plt.figure(figsize  = (10, 7))\n",
        "  #plotting Training data in blue\n",
        "  plt.scatter(train_data, train_labels, c = \"b\", s = 4, label = \"Training Data\")\n",
        "  #Plotting testing data in red\n",
        "  plt.scatter(test_data, test_labels, c = \"r\", s = 4, label = \"Testing Data\")\n",
        "  #Checking if there are prediction\n",
        "  if predictions is not None:\n",
        "    #we plot the predictions if they exist\n",
        "    plt.scatter(test_data, predictions, c = \"r\", s = 4, label = \"Predictions\")\n",
        "    #Show the legend\n",
        "    plt.legend(prop = {\"size\": 14});\n",
        "\n",
        "\n"
      ],
      "metadata": {
        "id": "6DUFQO1mQJV9"
      },
      "execution_count": 7,
      "outputs": []
    },
    {
      "cell_type": "code",
      "source": [
        "plot_predictions();"
      ],
      "metadata": {
        "colab": {
          "base_uri": "https://localhost:8080/",
          "height": 599
        },
        "id": "kGOxgfr5VbBq",
        "outputId": "20344f3e-a8d3-4074-992f-dae671fedd89"
      },
      "execution_count": 8,
      "outputs": [
        {
          "output_type": "display_data",
          "data": {
            "text/plain": [
              "<Figure size 1000x700 with 1 Axes>"
            ],
            "image/png": "[encoded data removed]"
          },
          "metadata": {}
        }
      ]
    },
    {
      "cell_type": "markdown",
      "source": [
        "#We now Build a Model"
      ],
      "metadata": {
        "id": "MTLIInMzXsKU"
      }
    },
    {
      "cell_type": "code",
      "source": [
        "#Building our very first model\n",
        "#We are creatinga linear regression model class as the first step\n",
        "class LinearRegressionModel(nn.Module):\n",
        "  def __init__(self):\n",
        "    super().__init__()\n",
        "    self.weights = nn.Parameter(torch.randn(1,\n",
        "                                requires_grad=True,\n",
        "                                dtype = torch.float))\n",
        "    self.bias = nn.Parameter(torch.randn(1,\n",
        "                                         requires_grad=True,\n",
        "                                         dtype = torch.float))\n",
        "    #We use the foward model to define the computation of the model\n",
        "  def forward(self, X:torch.Tensor) -> torch.Tensor:\n",
        "    return self.weights * X + self.bias #This is our linear regression formula\n",
        "#The two algrithim being emplpyed are the gradient Descent and BackPropagation"
      ],
      "metadata": {
        "id": "ZM4mtmqJXnfu"
      },
      "execution_count": 9,
      "outputs": []
    },
    {
      "cell_type": "code",
      "source": [
        "#Let us check the contents of our PyTorch Model. We use .parameters()\n",
        "#1: We create a random seed\n",
        "torch.manual_seed(42)\n",
        "#2: We create an instance of the model, which is subclass of the nn.Module\n",
        "model_0 = LinearRegressionModel()\n",
        "print(model_0)\n",
        "print(list(model_0.parameters()))\n",
        "print(model_0.state_dict())\n"
      ],
      "metadata": {
        "id": "Rnxk4RUdXyPA",
        "colab": {
          "base_uri": "https://localhost:8080/"
        },
        "outputId": "3f85941d-3908-4da9-a225-86aa33030d5a"
      },
      "execution_count": 10,
      "outputs": [
        {
          "output_type": "stream",
          "name": "stdout",
          "text": [
            "LinearRegressionModel()\n",
            "[Parameter containing:\n",
            "tensor([0.3367], requires_grad=True), Parameter containing:\n",
            "tensor([0.1288], requires_grad=True)]\n",
            "OrderedDict([('weights', tensor([0.3367])), ('bias', tensor([0.1288]))])\n"
          ]
        }
      ]
    },
    {
      "cell_type": "markdown",
      "source": [
        "#We now Make predictions using the model\n",
        "  #We use torch.inference_mode()\n",
        "    #We will first use the X_test and y_test, and then when passing the data through the model, we use the forward() mode\n",
        "    "
      ],
      "metadata": {
        "id": "OFx46usty5eJ"
      }
    },
    {
      "cell_type": "code",
      "source": [
        "#1Make predictions with the model\n",
        "with torch.inference_mode():\n",
        "  y_preds = model_0(X_test)\n",
        "\n",
        "\n",
        "print(y_preds)\n"
      ],
      "metadata": {
        "colab": {
          "base_uri": "https://localhost:8080/"
        },
        "id": "-Wfew2tgzXQO",
        "outputId": "93ba988c-d805-41e1-8dfc-0bf28acd7414"
      },
      "execution_count": 11,
      "outputs": [
        {
          "output_type": "stream",
          "name": "stdout",
          "text": [
            "tensor([[0.3982],\n",
            "        [0.4049],\n",
            "        [0.4116],\n",
            "        [0.4184],\n",
            "        [0.4251],\n",
            "        [0.4318],\n",
            "        [0.4386],\n",
            "        [0.4453],\n",
            "        [0.4520],\n",
            "        [0.4588]])\n"
          ]
        }
      ]
    },
    {
      "cell_type": "code",
      "source": [
        "plot_predictions(predictions = y_preds)"
      ],
      "metadata": {
        "colab": {
          "base_uri": "https://localhost:8080/",
          "height": 599
        },
        "id": "1aDF_0tW3bKs",
        "outputId": "468f5064-13af-4588-c7ec-3ce34b418766"
      },
      "execution_count": 12,
      "outputs": [
        {
          "output_type": "display_data",
          "data": {
            "text/plain": [
              "<Figure size 1000x700 with 1 Axes>"
            ],
            "image/png": "[encoded data removed]"
          },
          "metadata": {}
        }
      ]
    },
    {
      "cell_type": "markdown",
      "source": [
        "#That was awesome"
      ],
      "metadata": {
        "id": "ioesdogUz8DN"
      }
    },
    {
      "cell_type": "code",
      "source": [],
      "metadata": {
        "id": "rWxKWnV31qZq"
      },
      "execution_count": null,
      "outputs": []
    }
  ]
}