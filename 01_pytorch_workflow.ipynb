{
  "nbformat": 4,
  "nbformat_minor": 0,
  "metadata": {
    "colab": {
      "provenance": [],
      "authorship_tag": "ABX9TyPdZQqPe1R9aCTqKjD0Ulm4",
      "include_colab_link": true
    },
    "kernelspec": {
      "name": "python3",
      "display_name": "Python 3"
    },
    "language_info": {
      "name": "python"
    }
  },
  "cells": [
    {
      "cell_type": "markdown",
      "metadata": {
        "id": "view-in-github",
        "colab_type": "text"
      },
      "source": [
        "<a href=\"https://colab.research.google.com/github/awaaat/Machine_learning-Deep_learning/blob/main/01_pytorch_workflow.ipynb\" target=\"_parent\"><img src=\"https://colab.research.google.com/assets/colab-badge.svg\" alt=\"Open In Colab\"/></a>"
      ]
    },
    {
      "cell_type": "markdown",
      "source": [
        "#We are going to perform the neccessary ML Steps, including data preprocessing, building a model, fitting it, making predictions with it, and evaluating it. Lastly, saving it\n"
      ],
      "metadata": {
        "id": "1kwNhwdaDUfk"
      }
    },
    {
      "cell_type": "code",
      "source": [
        "import torch\n",
        "from torch import nn\n",
        "import matplotlib.pyplot as plt"
      ],
      "metadata": {
        "id": "MlQdg6YvDqRr"
      },
      "execution_count": 193,
      "outputs": []
    },
    {
      "cell_type": "code",
      "source": [
        "torch.__version__"
      ],
      "metadata": {
        "colab": {
          "base_uri": "https://localhost:8080/",
          "height": 35
        },
        "id": "E6MEqli2ERaw",
        "outputId": "893d62d0-acdd-4d00-d49b-d15684a892df"
      },
      "execution_count": 194,
      "outputs": [
        {
          "output_type": "execute_result",
          "data": {
            "text/plain": [
              "'2.1.0+cu121'"
            ],
            "application/vnd.google.colaboratory.intrinsic+json": {
              "type": "string"
            }
          },
          "metadata": {},
          "execution_count": 194
        }
      ]
    },
    {
      "cell_type": "markdown",
      "source": [
        "#Data Preparation and loading\n",
        "a)we start with a regression model with known data\n",
        "\n"
      ],
      "metadata": {
        "id": "QyyVGcXhEiod"
      }
    },
    {
      "cell_type": "code",
      "source": [
        "#1Step 1: Create known variables\n",
        "bias = 0.3\n",
        "weight = 0.7\n",
        "#create\n",
        "start = 0\n",
        "end = 1\n",
        "step = 0.02\n",
        "#Recap\n",
        "#The Linear regression formula is y = a + bX. In this case, bias  = a, and weight = b\n",
        "X = torch.arange(start, end, step).unsqueeze(dim = 1)\n",
        "#y = a + bX\n",
        "y = bias + weight * X\n",
        "\n",
        "\n",
        "view = (X[:10], y[:10], len(X), len(y))\n",
        "print(view)"
      ],
      "metadata": {
        "colab": {
          "base_uri": "https://localhost:8080/"
        },
        "id": "9dVKcQQKEnSQ",
        "outputId": "f233d920-50da-421a-f804-6e7c1824b38a"
      },
      "execution_count": 195,
      "outputs": [
        {
          "output_type": "stream",
          "name": "stdout",
          "text": [
            "(tensor([[0.0000],\n",
            "        [0.0200],\n",
            "        [0.0400],\n",
            "        [0.0600],\n",
            "        [0.0800],\n",
            "        [0.1000],\n",
            "        [0.1200],\n",
            "        [0.1400],\n",
            "        [0.1600],\n",
            "        [0.1800]]), tensor([[0.3000],\n",
            "        [0.3140],\n",
            "        [0.3280],\n",
            "        [0.3420],\n",
            "        [0.3560],\n",
            "        [0.3700],\n",
            "        [0.3840],\n",
            "        [0.3980],\n",
            "        [0.4120],\n",
            "        [0.4260]]), 50, 50)\n"
          ]
        }
      ]
    },
    {
      "cell_type": "markdown",
      "source": [
        "#Splitting data into traing and test sets"
      ],
      "metadata": {
        "id": "dcyf1CrwLNNN"
      }
    },
    {
      "cell_type": "markdown",
      "source": [
        "#Splitting data into training set and testset"
      ],
      "metadata": {
        "id": "0IBhl1QkJmyB"
      }
    },
    {
      "cell_type": "code",
      "source": [
        "#1create a train/test split\n",
        "\n",
        "#we take 80% of x as :\n",
        "train_split = int(0.8*len(X)) #This translates to 40 samples of X\n",
        "\n",
        "X_train, y_train = X[:train_split], y[:train_split]\n",
        "X_test, y_test = X[train_split:], y[train_split:]\n",
        "print(len(X_train), len(y_train), len(X_test), len(y_test))"
      ],
      "metadata": {
        "colab": {
          "base_uri": "https://localhost:8080/"
        },
        "id": "CRpZotvXJtJ8",
        "outputId": "936c281f-f9af-4ff2-fd73-b16d66d6442e"
      },
      "execution_count": 196,
      "outputs": [
        {
          "output_type": "stream",
          "name": "stdout",
          "text": [
            "40 40 10 10\n"
          ]
        }
      ]
    },
    {
      "cell_type": "markdown",
      "source": [
        "#Wait a minute... How might we best visualize out data? Visualize, visualize,, visualize\n"
      ],
      "metadata": {
        "id": "Qe35EY3sPZKW"
      }
    },
    {
      "cell_type": "code",
      "source": [
        "print(X_train, y_train)"
      ],
      "metadata": {
        "colab": {
          "base_uri": "https://localhost:8080/"
        },
        "id": "p9RWZIgLPhSI",
        "outputId": "eb76e340-f61d-4ddd-8341-6f90cd88c6da"
      },
      "execution_count": 197,
      "outputs": [
        {
          "output_type": "stream",
          "name": "stdout",
          "text": [
            "tensor([[0.0000],\n",
            "        [0.0200],\n",
            "        [0.0400],\n",
            "        [0.0600],\n",
            "        [0.0800],\n",
            "        [0.1000],\n",
            "        [0.1200],\n",
            "        [0.1400],\n",
            "        [0.1600],\n",
            "        [0.1800],\n",
            "        [0.2000],\n",
            "        [0.2200],\n",
            "        [0.2400],\n",
            "        [0.2600],\n",
            "        [0.2800],\n",
            "        [0.3000],\n",
            "        [0.3200],\n",
            "        [0.3400],\n",
            "        [0.3600],\n",
            "        [0.3800],\n",
            "        [0.4000],\n",
            "        [0.4200],\n",
            "        [0.4400],\n",
            "        [0.4600],\n",
            "        [0.4800],\n",
            "        [0.5000],\n",
            "        [0.5200],\n",
            "        [0.5400],\n",
            "        [0.5600],\n",
            "        [0.5800],\n",
            "        [0.6000],\n",
            "        [0.6200],\n",
            "        [0.6400],\n",
            "        [0.6600],\n",
            "        [0.6800],\n",
            "        [0.7000],\n",
            "        [0.7200],\n",
            "        [0.7400],\n",
            "        [0.7600],\n",
            "        [0.7800]]) tensor([[0.3000],\n",
            "        [0.3140],\n",
            "        [0.3280],\n",
            "        [0.3420],\n",
            "        [0.3560],\n",
            "        [0.3700],\n",
            "        [0.3840],\n",
            "        [0.3980],\n",
            "        [0.4120],\n",
            "        [0.4260],\n",
            "        [0.4400],\n",
            "        [0.4540],\n",
            "        [0.4680],\n",
            "        [0.4820],\n",
            "        [0.4960],\n",
            "        [0.5100],\n",
            "        [0.5240],\n",
            "        [0.5380],\n",
            "        [0.5520],\n",
            "        [0.5660],\n",
            "        [0.5800],\n",
            "        [0.5940],\n",
            "        [0.6080],\n",
            "        [0.6220],\n",
            "        [0.6360],\n",
            "        [0.6500],\n",
            "        [0.6640],\n",
            "        [0.6780],\n",
            "        [0.6920],\n",
            "        [0.7060],\n",
            "        [0.7200],\n",
            "        [0.7340],\n",
            "        [0.7480],\n",
            "        [0.7620],\n",
            "        [0.7760],\n",
            "        [0.7900],\n",
            "        [0.8040],\n",
            "        [0.8180],\n",
            "        [0.8320],\n",
            "        [0.8460]])\n"
          ]
        }
      ]
    },
    {
      "cell_type": "markdown",
      "source": [
        "#Let us Visualize, visualize, visualize (\"\"Motto\"\")"
      ],
      "metadata": {
        "id": "Vb_v--8BQEYB"
      }
    },
    {
      "cell_type": "code",
      "source": [
        "import matplotlib.pyplot as plt\n",
        "\n",
        "\n",
        "def plot_predictions(\n",
        "    train_data = X_train,\n",
        "    train_labels = y_train,\n",
        "    test_data = X_test,\n",
        "    test_labels = y_test,\n",
        "    predictions = None):\n",
        "\n",
        "#Now we plot training data, test data and then compare predictions\n",
        "  plt.figure(figsize  = (10, 7))\n",
        "  #plotting Training data in blue\n",
        "  plt.scatter(train_data, train_labels, c = \"b\", s = 4, label = \"Training Data\")\n",
        "  #Plotting testing data in red\n",
        "  plt.scatter(test_data, test_labels, c = \"r\", s = 4, label = \"Testing Data\")\n",
        "  #Checking if there are prediction\n",
        "  if predictions is not None:\n",
        "    #we plot the predictions if they exist\n",
        "    plt.scatter(test_data, predictions, c = \"r\", s = 4, label = \"Predictions\")\n",
        "    #Show the legend\n",
        "    plt.legend(prop = {\"size\": 14});\n",
        "\n",
        "\n"
      ],
      "metadata": {
        "id": "6DUFQO1mQJV9"
      },
      "execution_count": 198,
      "outputs": []
    },
    {
      "cell_type": "code",
      "source": [
        "plot_predictions();"
      ],
      "metadata": {
        "colab": {
          "base_uri": "https://localhost:8080/",
          "height": 599
        },
        "id": "kGOxgfr5VbBq",
        "outputId": "eb9574dd-dfc8-47fb-f4f7-071fc79038c8"
      },
      "execution_count": 199,
      "outputs": [
        {
          "output_type": "display_data",
          "data": {
            "text/plain": [
              "<Figure size 1000x700 with 1 Axes>"
            ],
            "image/png": "[encoded data removed]"
          },
          "metadata": {}
        }
      ]
    },
    {
      "cell_type": "markdown",
      "source": [
        "#We now Build a Model"
      ],
      "metadata": {
        "id": "MTLIInMzXsKU"
      }
    },
    {
      "cell_type": "code",
      "source": [
        "#Building our very first model\n",
        "#We are creatinga linear regression model class as the first step\n",
        "class LinearRegressionModel(nn.Module):\n",
        "  def __init__(self):\n",
        "    super().__init__()\n",
        "    self.weights = nn.Parameter(torch.randn(1,\n",
        "                                requires_grad=True,\n",
        "                                dtype = torch.float))\n",
        "    self.bias = nn.Parameter(torch.randn(1,\n",
        "                                         requires_grad=True,\n",
        "                                         dtype = torch.float))\n",
        "    #We use the foward model to define the computation of the model\n",
        "  def forward(self, X:torch.Tensor) -> torch.Tensor:\n",
        "    return self.weights * X + self.bias #This is our linear regression formula\n",
        "#The two algrithim being emplpyed are the gradient Descent and BackPropagation"
      ],
      "metadata": {
        "id": "ZM4mtmqJXnfu"
      },
      "execution_count": 200,
      "outputs": []
    },
    {
      "cell_type": "code",
      "source": [
        "#Let us check the contents of our PyTorch Model. We use .parameters()\n",
        "#1: We create a random seed\n",
        "torch.manual_seed(42)\n",
        "#2: We create an instance of the model, which is subclass of the nn.Module\n",
        "model_0 = LinearRegressionModel()\n",
        "print(model_0)\n",
        "print(list(model_0.parameters()))\n",
        "print(model_0.state_dict())\n"
      ],
      "metadata": {
        "id": "Rnxk4RUdXyPA",
        "colab": {
          "base_uri": "https://localhost:8080/"
        },
        "outputId": "2429aea5-b4b4-4da4-edd4-679b2d75bb2b"
      },
      "execution_count": 201,
      "outputs": [
        {
          "output_type": "stream",
          "name": "stdout",
          "text": [
            "LinearRegressionModel()\n",
            "[Parameter containing:\n",
            "tensor([0.3367], requires_grad=True), Parameter containing:\n",
            "tensor([0.1288], requires_grad=True)]\n",
            "OrderedDict([('weights', tensor([0.3367])), ('bias', tensor([0.1288]))])\n"
          ]
        }
      ]
    },
    {
      "cell_type": "markdown",
      "source": [
        "#We now Make predictions using the model\n",
        "  #We use torch.inference_mode()\n",
        "    #We will first use the X_test and y_test, and then when passing the data through the model, we use the forward() mode\n",
        "    "
      ],
      "metadata": {
        "id": "OFx46usty5eJ"
      }
    },
    {
      "cell_type": "code",
      "source": [
        "#1Make predictions with the model\n",
        "with torch.inference_mode():\n",
        "  y_preds = model_0(X_test)\n",
        "\n",
        "\n",
        "print(y_preds)\n"
      ],
      "metadata": {
        "colab": {
          "base_uri": "https://localhost:8080/"
        },
        "id": "-Wfew2tgzXQO",
        "outputId": "999d943d-1b38-4c59-a1c4-412353df3e17"
      },
      "execution_count": 202,
      "outputs": [
        {
          "output_type": "stream",
          "name": "stdout",
          "text": [
            "tensor([[0.3982],\n",
            "        [0.4049],\n",
            "        [0.4116],\n",
            "        [0.4184],\n",
            "        [0.4251],\n",
            "        [0.4318],\n",
            "        [0.4386],\n",
            "        [0.4453],\n",
            "        [0.4520],\n",
            "        [0.4588]])\n"
          ]
        }
      ]
    },
    {
      "cell_type": "code",
      "source": [
        "plot_predictions(predictions = y_preds)"
      ],
      "metadata": {
        "colab": {
          "base_uri": "https://localhost:8080/",
          "height": 599
        },
        "id": "1aDF_0tW3bKs",
        "outputId": "af37cf93-f258-4869-ec1e-fb17abdb0e01"
      },
      "execution_count": 203,
      "outputs": [
        {
          "output_type": "display_data",
          "data": {
            "text/plain": [
              "<Figure size 1000x700 with 1 Axes>"
            ],
            "image/png": "[encoded data removed]"
          },
          "metadata": {}
        }
      ]
    },
    {
      "cell_type": "markdown",
      "source": [
        "#That was awesome"
      ],
      "metadata": {
        "id": "ioesdogUz8DN"
      }
    },
    {
      "cell_type": "code",
      "source": [],
      "metadata": {
        "id": "rWxKWnV31qZq"
      },
      "execution_count": 203,
      "outputs": []
    },
    {
      "cell_type": "markdown",
      "source": [
        "#torch.nn - contains the essential computational graphs\n",
        "#torch.nn.Parameter - Contains the parameers that our model should learn and try\n",
        "#torch.Modeule - This is the base class for all neural network modules\n",
        "#torch.optim - contains python optimizers, which help in gradient descent.\n",
        "#def forward() -  Defines what happens in the forward computation\n"
      ],
      "metadata": {
        "id": "YNL3ltxz5CEO"
      }
    },
    {
      "cell_type": "code",
      "source": [
        "#The whole idea of model training is to move from random unknown parameres to known parameters\n",
        "#However, one of the ways to evaluate how wrong the model is in its preedictions is by usinga  loss function. It is also reffered to cost or criterion function in some areas\n",
        "#*An Optimizer* takes into account the loss funtion and then makes the required adjustments on the model parameters"
      ],
      "metadata": {
        "id": "u_fwSMZH6IxZ"
      },
      "execution_count": 204,
      "outputs": []
    },
    {
      "cell_type": "code",
      "source": [
        "print(list(model_0.parameters()))\n",
        "print(model_0.state_dict())"
      ],
      "metadata": {
        "colab": {
          "base_uri": "https://localhost:8080/"
        },
        "id": "_V-DoS0XJRcT",
        "outputId": "6c0f39f2-f886-430a-87f6-f815e7e4f61d"
      },
      "execution_count": 205,
      "outputs": [
        {
          "output_type": "stream",
          "name": "stdout",
          "text": [
            "[Parameter containing:\n",
            "tensor([0.3367], requires_grad=True), Parameter containing:\n",
            "tensor([0.1288], requires_grad=True)]\n",
            "OrderedDict([('weights', tensor([0.3367])), ('bias', tensor([0.1288]))])\n"
          ]
        }
      ]
    },
    {
      "cell_type": "code",
      "source": [
        "# We set up the loss funtion\n",
        "loss_fn = nn.L1Loss()\n",
        "# We then set up an optimizer (Stochastic gradient Descent. Since we are using Gradient Descent)\n",
        "optimizer = torch.optim.SGD(params = model_0.parameters(), lr = 0.01)\n",
        "#We then build a training loop and testing loop\n",
        "#-- Testing loop; we will need to;\n",
        "    #1. Loop through the training data\n",
        "      #--We use epoch -an epoch is a loop through the data\n",
        "#This is an empty list for storing useful values-for tracking purposes\n",
        "epochs = 200\n",
        "epoch_count = []\n",
        "loss_values = []\n",
        "test_loss_values = []\n",
        "\n",
        "for epoch in range(epochs):\n",
        "  #We then set the model to training mode\n",
        "  model_0.train()\n",
        "  #2. Forward pass/forward propagation-which involves passing our data through the model's forward function to make predictions\n",
        "  y_pred = model_0(X_train)\n",
        "  #3. Calculating the loss (compare forward pass prediction to ground truth labels)\n",
        "  loss = loss_fn(y_pred, y_train) # so this is a fn of y_train\n",
        "   #4. Optimizer step - use the optimizer to adjust the parameters of the network and then try to improve the network\n",
        "  optimizer.zero_grad() #Herer we zero the optimizer grad\n",
        "  #5. Loss backwords - move backwords through the network to calculate the grad of each parameter of the model with respect to the loss function\n",
        "  loss.backward()\n",
        "  #6. Step the optimizer (Perform gradient descent)\n",
        "  optimizer.step()\n",
        "  #To turn off grad;\n",
        "  model_0.eval() #This turns off settings that are needed for evaluation oor testing of the model\n",
        "  #NOW LET US DO THE TESTING\n",
        "\n",
        "  with torch.inference_mode():\n",
        "  # 1. Do the forward pass\n",
        "    test_pred = model_0(X_test)\n",
        "  # 2. Calculate the loss\n",
        "    test_loss = loss_fn(test_pred, y_test)\n",
        "\n",
        "\n",
        "  if epoch % 10 ==0:\n",
        "    epoch_count.append(epoch)\n",
        "    loss_values.append(loss)\n",
        "    test_loss_values.append(test_loss)\n",
        "    print(f\"Epoch: {epoch}| Loss: {loss}| Test Loss: {test_loss}\")\n",
        "    print(model_0.state_dict())"
      ],
      "metadata": {
        "colab": {
          "base_uri": "https://localhost:8080/"
        },
        "id": "2xONGdLiL_42",
        "outputId": "3a6d4fbf-9ded-484d-e070-903104defbdc"
      },
      "execution_count": 206,
      "outputs": [
        {
          "output_type": "stream",
          "name": "stdout",
          "text": [
            "Epoch: 0| Loss: 0.31288138031959534| Test Loss: 0.48106518387794495\n",
            "OrderedDict([('weights', tensor([0.3406])), ('bias', tensor([0.1388]))])\n",
            "Epoch: 10| Loss: 0.1976713240146637| Test Loss: 0.3463551998138428\n",
            "OrderedDict([('weights', tensor([0.3796])), ('bias', tensor([0.2388]))])\n",
            "Epoch: 20| Loss: 0.08908725529909134| Test Loss: 0.21729660034179688\n",
            "OrderedDict([('weights', tensor([0.4184])), ('bias', tensor([0.3333]))])\n",
            "Epoch: 30| Loss: 0.053148526698350906| Test Loss: 0.14464017748832703\n",
            "OrderedDict([('weights', tensor([0.4512])), ('bias', tensor([0.3768]))])\n",
            "Epoch: 40| Loss: 0.04543796554207802| Test Loss: 0.11360953003168106\n",
            "OrderedDict([('weights', tensor([0.4748])), ('bias', tensor([0.3868]))])\n",
            "Epoch: 50| Loss: 0.04167863354086876| Test Loss: 0.09919948130846024\n",
            "OrderedDict([('weights', tensor([0.4938])), ('bias', tensor([0.3843]))])\n",
            "Epoch: 60| Loss: 0.03818932920694351| Test Loss: 0.08886633068323135\n",
            "OrderedDict([('weights', tensor([0.5116])), ('bias', tensor([0.3788]))])\n",
            "Epoch: 70| Loss: 0.03476089984178543| Test Loss: 0.0805937647819519\n",
            "OrderedDict([('weights', tensor([0.5288])), ('bias', tensor([0.3718]))])\n",
            "Epoch: 80| Loss: 0.03132382780313492| Test Loss: 0.07232122868299484\n",
            "OrderedDict([('weights', tensor([0.5459])), ('bias', tensor([0.3648]))])\n",
            "Epoch: 90| Loss: 0.02788739837706089| Test Loss: 0.06473556160926819\n",
            "OrderedDict([('weights', tensor([0.5629])), ('bias', tensor([0.3573]))])\n",
            "Epoch: 100| Loss: 0.024458957836031914| Test Loss: 0.05646304413676262\n",
            "OrderedDict([('weights', tensor([0.5800])), ('bias', tensor([0.3503]))])\n",
            "Epoch: 110| Loss: 0.021020207554101944| Test Loss: 0.04819049686193466\n",
            "OrderedDict([('weights', tensor([0.5972])), ('bias', tensor([0.3433]))])\n",
            "Epoch: 120| Loss: 0.01758546568453312| Test Loss: 0.04060482233762741\n",
            "OrderedDict([('weights', tensor([0.6141])), ('bias', tensor([0.3358]))])\n",
            "Epoch: 130| Loss: 0.014155393466353416| Test Loss: 0.03233227878808975\n",
            "OrderedDict([('weights', tensor([0.6313])), ('bias', tensor([0.3288]))])\n",
            "Epoch: 140| Loss: 0.010716589167714119| Test Loss: 0.024059748277068138\n",
            "OrderedDict([('weights', tensor([0.6485])), ('bias', tensor([0.3218]))])\n",
            "Epoch: 150| Loss: 0.0072835334576666355| Test Loss: 0.016474086791276932\n",
            "OrderedDict([('weights', tensor([0.6654])), ('bias', tensor([0.3143]))])\n",
            "Epoch: 160| Loss: 0.0038517764769494534| Test Loss: 0.008201557211577892\n",
            "OrderedDict([('weights', tensor([0.6826])), ('bias', tensor([0.3073]))])\n",
            "Epoch: 170| Loss: 0.008932482451200485| Test Loss: 0.005023092031478882\n",
            "OrderedDict([('weights', tensor([0.6951])), ('bias', tensor([0.2993]))])\n",
            "Epoch: 180| Loss: 0.008932482451200485| Test Loss: 0.005023092031478882\n",
            "OrderedDict([('weights', tensor([0.6951])), ('bias', tensor([0.2993]))])\n",
            "Epoch: 190| Loss: 0.008932482451200485| Test Loss: 0.005023092031478882\n",
            "OrderedDict([('weights', tensor([0.6951])), ('bias', tensor([0.2993]))])\n"
          ]
        }
      ]
    },
    {
      "cell_type": "code",
      "source": [
        "import numpy as np\n",
        "np.array(torch.tensor(loss_values).numpy()), test_loss_values"
      ],
      "metadata": {
        "colab": {
          "base_uri": "https://localhost:8080/"
        },
        "id": "oc8q5of-2esB",
        "outputId": "ae17952e-e216-4c03-ede8-9193aa1721b1"
      },
      "execution_count": 207,
      "outputs": [
        {
          "output_type": "execute_result",
          "data": {
            "text/plain": [
              "(array([0.31288138, 0.19767132, 0.08908726, 0.05314853, 0.04543797,\n",
              "        0.04167863, 0.03818933, 0.0347609 , 0.03132383, 0.0278874 ,\n",
              "        0.02445896, 0.02102021, 0.01758547, 0.01415539, 0.01071659,\n",
              "        0.00728353, 0.00385178, 0.00893248, 0.00893248, 0.00893248],\n",
              "       dtype=float32),\n",
              " [tensor(0.4811),\n",
              "  tensor(0.3464),\n",
              "  tensor(0.2173),\n",
              "  tensor(0.1446),\n",
              "  tensor(0.1136),\n",
              "  tensor(0.0992),\n",
              "  tensor(0.0889),\n",
              "  tensor(0.0806),\n",
              "  tensor(0.0723),\n",
              "  tensor(0.0647),\n",
              "  tensor(0.0565),\n",
              "  tensor(0.0482),\n",
              "  tensor(0.0406),\n",
              "  tensor(0.0323),\n",
              "  tensor(0.0241),\n",
              "  tensor(0.0165),\n",
              "  tensor(0.0082),\n",
              "  tensor(0.0050),\n",
              "  tensor(0.0050),\n",
              "  tensor(0.0050)])"
            ]
          },
          "metadata": {},
          "execution_count": 207
        }
      ]
    },
    {
      "cell_type": "code",
      "source": [
        "with torch.inference_mode(): #This turns off gradient tracking, and some unnecessary settings too\n",
        "  y_pred_new = model_0(X_test)\n",
        "\n",
        "plot_predictions(predictions=y_pred_new)"
      ],
      "metadata": {
        "colab": {
          "base_uri": "https://localhost:8080/",
          "height": 599
        },
        "id": "8bGfbmbdhxY3",
        "outputId": "bc2392d5-f4f6-4819-9929-1a86610c4c84"
      },
      "execution_count": 208,
      "outputs": [
        {
          "output_type": "display_data",
          "data": {
            "text/plain": [
              "<Figure size 1000x700 with 1 Axes>"
            ],
            "image/png": "[encoded data removed]"
          },
          "metadata": {}
        }
      ]
    },
    {
      "cell_type": "code",
      "source": [
        "plt.plot(epoch_count, np.array(torch.tensor(loss_values).numpy()), label = \"Train Loss\")\n",
        "plt.plot(epoch_count, test_loss_values, label = \"Test Loss\")\n",
        "plt.title(\"Training and test Loss Curves\")\n",
        "plt.ylabel(\"Loss\")\n",
        "plt.xlabel(\"epochs\")\n",
        "plt.legend();"
      ],
      "metadata": {
        "colab": {
          "base_uri": "https://localhost:8080/",
          "height": 472
        },
        "id": "pbjLGJvO0ptu",
        "outputId": "f106eddf-920a-4df2-f3bd-823dfba0b552"
      },
      "execution_count": 209,
      "outputs": [
        {
          "output_type": "display_data",
          "data": {
            "text/plain": [
              "<Figure size 640x480 with 1 Axes>"
            ],
            "image/png": "[encoded data removed]"
          },
          "metadata": {}
        }
      ]
    },
    {
      "cell_type": "markdown",
      "source": [
        "#Now let us save our model"
      ],
      "metadata": {
        "id": "JLDY7D4M952L"
      }
    },
    {
      "cell_type": "code",
      "source": [
        "#We can use three methods, namly;\n",
        "\"\"\"torch.save() #- saving in python picke\n",
        "torch.load() #- loading a saved pytorch object\n",
        "torch.nn.Module.load_state_dict() #loads a model saved in a state dictionary\"\"\"\n",
        "\n"
      ],
      "metadata": {
        "colab": {
          "base_uri": "https://localhost:8080/",
          "height": 53
        },
        "id": "KMcZUu4k94GH",
        "outputId": "9424aef2-92bd-482d-970a-6c30527c6b40"
      },
      "execution_count": 210,
      "outputs": [
        {
          "output_type": "execute_result",
          "data": {
            "text/plain": [
              "'torch.save() #- saving in python picke\\ntorch.load() #- loading a saved pytorch object \\ntorch.nn.Module.load_state_dict() #loads a model saved in a state dictionary'"
            ],
            "application/vnd.google.colaboratory.intrinsic+json": {
              "type": "string"
            }
          },
          "metadata": {},
          "execution_count": 210
        }
      ]
    },
    {
      "cell_type": "code",
      "source": [
        "#The recommended mode of saving is ;\n",
        "from pathlib import Path\n",
        "#1 Create a model directory\n",
        "MODEL_PATH = Path(\"Models\")\n",
        "MODEL_PATH.mkdir(parents = True, exist_ok = True)\n",
        "#Create a model save path\n",
        "MODEL_NAME = \"pytorch_workflow_model_0.pth\"\n",
        "MODEL_SAVE_PATH = MODEL_PATH/MODEL_NAME\n",
        "print(MODEL_SAVE_PATH)\n",
        "\n"
      ],
      "metadata": {
        "colab": {
          "base_uri": "https://localhost:8080/"
        },
        "id": "golrg5R_-z2U",
        "outputId": "7984173d-471c-44bd-be85-0d2b99bb6d3e"
      },
      "execution_count": 219,
      "outputs": [
        {
          "output_type": "stream",
          "name": "stdout",
          "text": [
            "Models/pytorch_workflow_model_0.pth\n"
          ]
        }
      ]
    },
    {
      "cell_type": "code",
      "source": [
        "#Now let us save\n",
        "\n",
        "torch.save(obj = model_0.state_dict(),\n",
        "           f = MODEL_SAVE_PATH)"
      ],
      "metadata": {
        "id": "R-DySfOhC2Jt"
      },
      "execution_count": 220,
      "outputs": []
    },
    {
      "cell_type": "markdown",
      "source": [
        "#That was Pretty awesome. End."
      ],
      "metadata": {
        "id": "CI8NRG1I0mPA"
      }
    }
  ]
}