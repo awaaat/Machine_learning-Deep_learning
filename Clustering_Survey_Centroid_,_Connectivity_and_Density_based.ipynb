{
  "nbformat": 4,
  "nbformat_minor": 0,
  "metadata": {
    "colab": {
      "provenance": [],
      "include_colab_link": true
    },
    "kernelspec": {
      "name": "python3",
      "display_name": "Python 3"
    },
    "language_info": {
      "name": "python"
    }
  },
  "cells": [
    {
      "cell_type": "markdown",
      "metadata": {
        "id": "view-in-github",
        "colab_type": "text"
      },
      "source": [
        "<a href=\"https://colab.research.google.com/github/awaaat/Machine_learning-Deep_learning/blob/main/Clustering_Survey_Centroid_%2C_Connectivity_and_Density_based.ipynb\" target=\"_parent\"><img src=\"https://colab.research.google.com/assets/colab-badge.svg\" alt=\"Open In Colab\"/></a>"
      ]
    },
    {
      "cell_type": "code",
      "execution_count": null,
      "metadata": {
        "id": "SJxJbt9OJ6ck"
      },
      "outputs": [],
      "source": [
        "import pandas as pd\n",
        "import numpy as np\n",
        "\n",
        "from sklearn.cluster import KMeans\n",
        "from sklearn.preprocessing import MinMaxScaler\n",
        "from sklearn.datasets import make_blobs\n",
        "from sklearn.metrics import silhouette_samples, silhouette_score\n",
        "from sklearn.preprocessing import StandardScaler\n",
        "\n",
        "from yellowbrick.cluster import KElbowVisualizer\n",
        "from matplotlib import pyplot as plt\n",
        "\n",
        "import matplotlib.cm as cm\n",
        "import seaborn as sns\n",
        "\n",
        "%matplotlib inline\n",
        "sns.set_style('whitegrid')\n",
        "plt.style.use('fivethirtyeight')\n"
      ]
    },
    {
      "cell_type": "code",
      "source": [
        "dataset = pd.read_csv(\"https://drive.google.com/uc?export=download&id=1Ih40gYhUN6gHWCNJoPW6n-YcJNhVwmx4\", sep=\",\")\n",
        "dataset.head()"
      ],
      "metadata": {
        "id": "ES_ZQ_IbKEDe"
      },
      "execution_count": null,
      "outputs": []
    },
    {
      "cell_type": "code",
      "source": [
        "dataset.info()"
      ],
      "metadata": {
        "id": "yWW0qepBKEBR"
      },
      "execution_count": null,
      "outputs": []
    },
    {
      "cell_type": "code",
      "source": [
        "plt.figure(figsize=(10, 9))\n",
        "sns.scatterplot(data=dataset, x='Annual Income (k$)', y='Spending Score (1-100)', alpha=0.9)"
      ],
      "metadata": {
        "id": "yrv4GjJrKD_C"
      },
      "execution_count": null,
      "outputs": []
    },
    {
      "cell_type": "code",
      "source": [
        "# get feature columns and convert to np.ndarray\n",
        "data_x = dataset.iloc[:, 3:5]\n",
        "x_array =  np.array(data_x)\n",
        "print(x_array)"
      ],
      "metadata": {
        "id": "gkBZrw2PKD8z"
      },
      "execution_count": null,
      "outputs": []
    },
    {
      "cell_type": "code",
      "source": [
        "# feature scaling\n",
        "scaler = MinMaxScaler()\n",
        "x_scaled = scaler.fit_transform(x_array)\n",
        "x_scaled"
      ],
      "metadata": {
        "id": "TqnSoWKpKD6u"
      },
      "execution_count": null,
      "outputs": []
    },
    {
      "cell_type": "markdown",
      "source": [
        "# **Centroid-based: K Means Clustering**"
      ],
      "metadata": {
        "id": "xK2XNF4YM37m"
      }
    },
    {
      "cell_type": "code",
      "source": [
        "# elbow method for finding optimal k for k-means\n",
        "\n",
        "sum_of_squared_distances=[]\n",
        "K = range(1,15)\n",
        "\n",
        "for k in K:\n",
        "    km = KMeans(n_clusters=k, n_init=10)\n",
        "    km = km.fit(x_scaled)\n",
        "    sum_of_squared_distances.append(km.inertia_)\n",
        "\n",
        "plt.plot(K, sum_of_squared_distances, 'bx-')\n",
        "plt.xlabel('k')\n",
        "plt.ylabel('SSE')\n",
        "plt.title('Elbow Method For Optimal k')\n",
        "plt.show()"
      ],
      "metadata": {
        "id": "kklBpH1RKD43"
      },
      "execution_count": null,
      "outputs": []
    },
    {
      "cell_type": "code",
      "source": [
        "# silhoutte score plot\n",
        "model = KMeans(random_state=123, n_init=10)\n",
        "visualizer = KElbowVisualizer(model, k=(2,8), metric='silhouette', timings=False)\n",
        "\n",
        "visualizer.fit(x_scaled)\n",
        "visualizer.poof()"
      ],
      "metadata": {
        "id": "_Bnj85SKKDye"
      },
      "execution_count": null,
      "outputs": []
    },
    {
      "cell_type": "code",
      "source": [
        "numerics = dataset[['Annual Income (k$)','Spending Score (1-100)']]\n",
        "from sklearn.preprocessing import MinMaxScaler\n",
        "scaler = MinMaxScaler()\n",
        "for i in numerics:\n",
        "        scaler.fit(dataset[[i]])\n",
        "        dataset[i] = scaler.transform(dataset[[i]])\n",
        "km = KMeans(n_clusters=5, n_init=10)\n",
        "y_predicted = km.fit_predict(dataset[['Annual Income (k$)', 'Spending Score (1-100)']])\n",
        "y_predicted"
      ],
      "metadata": {
        "id": "Ns_OAtynKDwP"
      },
      "execution_count": null,
      "outputs": []
    },
    {
      "cell_type": "code",
      "source": [
        "dataset[\"Cluster\"] = y_predicted\n",
        "dataset.head(10)"
      ],
      "metadata": {
        "id": "ecQ8QpGhKDtq"
      },
      "execution_count": null,
      "outputs": []
    },
    {
      "cell_type": "code",
      "source": [
        "# show coordinates of all centroids\n",
        "km.cluster_centers_"
      ],
      "metadata": {
        "id": "6P2wPaw4MkZX"
      },
      "execution_count": null,
      "outputs": []
    },
    {
      "cell_type": "code",
      "source": [
        "plt.figure(figsize=(12,8))\n",
        "df1 = dataset[dataset.Cluster==0]\n",
        "df2 = dataset[dataset.Cluster==1]\n",
        "df3 = dataset[dataset.Cluster==2]\n",
        "df4 = dataset[dataset.Cluster==3]\n",
        "df5 = dataset[dataset.Cluster==4]\n",
        "plt.scatter(df1['Annual Income (k$)'],df1['Spending Score (1-100)'],color='green', label='Target Group')\n",
        "plt.scatter(df2['Annual Income (k$)'],df2['Spending Score (1-100)'],color='magenta', label='Sensible')\n",
        "plt.scatter(df3['Annual Income (k$)'],df3['Spending Score (1-100)'],color='orange', label='Careless')\n",
        "plt.scatter(df4['Annual Income (k$)'],df4['Spending Score (1-100)'],color='red', label='Careful')\n",
        "plt.scatter(df5['Annual Income (k$)'],df5['Spending Score (1-100)'],color='blue', label='Standard')\n",
        "plt.title('Clustering Result', fontweight='bold',fontsize=20)\n",
        "plt.xlabel('Annual Income (scaled)',fontsize=15)\n",
        "plt.ylabel('Spending Score (scaled)',fontsize=15)\n",
        "plt.legend(fontsize=15)\n",
        "plt.grid(True)\n",
        "plt.show()"
      ],
      "metadata": {
        "id": "OwPYVex4MkXW"
      },
      "execution_count": null,
      "outputs": []
    },
    {
      "cell_type": "markdown",
      "source": [
        "# **Connectivity-based: Hierarchical Clustering**"
      ],
      "metadata": {
        "id": "hBmD6bVaM8pc"
      }
    },
    {
      "cell_type": "code",
      "source": [
        "# same dataset as above\n",
        "\n",
        "plt.figure(figsize=(8,5))\n",
        "plt.title(\"Annual income distribution\",fontsize=15)\n",
        "plt.xlabel (\"Annual income (scaled)\",fontsize=13)\n",
        "plt.grid(True)\n",
        "plt.hist(dataset['Annual Income (k$)'],color='blue',edgecolor='k')\n",
        "plt.show()"
      ],
      "metadata": {
        "id": "4sqykwdpMkU_"
      },
      "execution_count": null,
      "outputs": []
    },
    {
      "cell_type": "code",
      "source": [
        "plt.figure(figsize=(8,5))\n",
        "plt.title(\"Spending Score distribution\",fontsize=15)\n",
        "plt.xlabel (\"Spending Score (scaled)\",fontsize=14)\n",
        "plt.grid(True)\n",
        "plt.hist(dataset['Spending Score (1-100)'],color='brown',edgecolor='k')\n",
        "plt.show()"
      ],
      "metadata": {
        "id": "qRxl7HpyMkS1"
      },
      "execution_count": null,
      "outputs": []
    },
    {
      "cell_type": "code",
      "source": [
        "plt.figure(figsize=(11,8))\n",
        "plt.title(\"Annual Income and Spending Score Correlation\",fontsize=18)\n",
        "plt.xlabel (\"Annual Income (scaled)\",fontsize=14)\n",
        "plt.ylabel (\"Spending Score (scaled)\",fontsize=14)\n",
        "plt.grid(True)\n",
        "plt.scatter(dataset['Annual Income (k$)'], dataset['Spending Score (1-100)'],color='green',edgecolor='k',alpha=0.6, s=100)\n",
        "plt.show()"
      ],
      "metadata": {
        "id": "FeKNxWnvMkQe"
      },
      "execution_count": null,
      "outputs": []
    },
    {
      "cell_type": "code",
      "source": [
        "# We use the 'Ward' linkage criterion (https://en.wikipedia.org/wiki/Ward%27s_method)\n",
        "\n",
        "X = dataset.iloc[:,[3,4]].values\n",
        "\n",
        "import scipy.cluster.hierarchy as sch\n",
        "from scipy.cluster.hierarchy import dendrogram, linkage\n",
        "from scipy.cluster import hierarchy\n",
        "\n",
        "plt.figure(figsize=(17,10))\n",
        "plt.title('Dendrogram')\n",
        "plt.xlabel('Customers')\n",
        "plt.ylabel('Euclidean distances')\n",
        "\n",
        "dendrogram = sch.dendrogram(sch.linkage(X, method = 'ward'))\n",
        "plt.show()"
      ],
      "metadata": {
        "id": "RipwNIpOMkNo"
      },
      "execution_count": null,
      "outputs": []
    },
    {
      "cell_type": "code",
      "source": [
        "plt.figure(figsize=(15,6))\n",
        "plt.title('Dendrogram')\n",
        "plt.xlabel('Customers')\n",
        "plt.ylabel('Euclidean distances')\n",
        "plt.text(x=50, y=1.6, s='Horizontal line crossing 5 vertical lines', fontsize=12)\n",
        "plt.axhline(y=1.5, c='grey', lw=3, linestyle='dashed')\n",
        "dendogram = sch.dendrogram(linkage(X, method='ward'))\n",
        "\n",
        "plt.show()"
      ],
      "metadata": {
        "id": "_n1Fc9WDOI0M"
      },
      "execution_count": null,
      "outputs": []
    },
    {
      "cell_type": "code",
      "source": [
        "from sklearn.cluster import AgglomerativeClustering\n",
        "\n",
        "hc = AgglomerativeClustering(n_clusters=5, metric='euclidean', linkage='ward')\n",
        "y_hc = hc.fit_predict(X)\n",
        "\n",
        "plt.figure(figsize=(15,10))\n",
        "\n",
        "plt.scatter(X[y_hc == 0, 0], X[y_hc == 0, 1], s = 100, c = 'green', label = 'Target group')\n",
        "plt.scatter(X[y_hc == 2, 0], X[y_hc == 2, 1], s = 100, c = 'red', label = 'Careful')\n",
        "plt.scatter(X[y_hc == 4, 0], X[y_hc == 4, 1], s = 100, c = 'magenta', label = 'Sensible')\n",
        "plt.scatter(X[y_hc == 3, 0], X[y_hc == 3, 1], s = 100, c = 'orange', label = 'Careless')\n",
        "plt.scatter(X[y_hc == 1, 0], X[y_hc == 1, 1], s = 100, c = 'blue', label = 'Standard')\n",
        "\n",
        "plt.title('Clustering Result', fontweight='bold',fontsize=30)\n",
        "plt.xlabel('Annual Income (scaled)',fontsize=20)\n",
        "plt.ylabel('Spending Score (scaled)',fontsize=20)\n",
        "plt.legend(fontsize=14, loc='center right', frameon=True, shadow=True)\n",
        "plt.grid(True)\n",
        "\n",
        "plt.axhspan(ymin=.61,ymax=1,xmin=0.43,xmax=0.96,alpha=0.3,color='yellow')\n",
        "plt.show()"
      ],
      "metadata": {
        "id": "O82NWkAVOJ7k"
      },
      "execution_count": null,
      "outputs": []
    },
    {
      "cell_type": "markdown",
      "source": [
        "# **Density-based: DBSCAN**\n",
        "Density Based Spatial Clustering for Applications with Noise (DBSCAN)"
      ],
      "metadata": {
        "id": "wOr8_cAjUO8j"
      }
    },
    {
      "cell_type": "markdown",
      "source": [
        "**Hyperparameters:**\n",
        "- **eps**: specifies how close points should be to each other to be considered a part of a cluster. It means that if the distance between two points is lower or equal to this value (eps), these points are considered to be neighbors.\n",
        "- **minPoints**: the minimum number of data points to form a dense region/ cluster. For example, if we set the minPoints parameter as 5, then we need at least 5 points to form a dense region."
      ],
      "metadata": {
        "id": "aU1lXlhqUbv_"
      }
    },
    {
      "cell_type": "code",
      "source": [
        "from sklearn.cluster import DBSCAN\n",
        "import warnings\n",
        "warnings.filterwarnings('ignore')"
      ],
      "metadata": {
        "id": "ZHJL57NUOJ5Z"
      },
      "execution_count": null,
      "outputs": []
    },
    {
      "cell_type": "code",
      "source": [
        "# load, convert, and scale features\n",
        "df = dataset[['Annual Income (k$)','Spending Score (1-100)']]\n",
        "X = np.nan_to_num(df)\n",
        "X = np.array(X, dtype=np.float64)\n",
        "X = StandardScaler().fit_transform(X)\n",
        "\n",
        "# Compute DBSCAN\n",
        "db = DBSCAN(eps=0.4, min_samples=5).fit(X)\n",
        "\n",
        "core_samples_mask = np.zeros_like(db.labels_, dtype=bool)\n",
        "core_samples_mask[db.core_sample_indices_] = True\n",
        "labels = db.labels_\n",
        "df['Cluster']=labels\n",
        "\n",
        "realClusterNum=len(set(labels)) - (1 if -1 in labels else 0)\n",
        "clusterNum = len(set(labels))\n",
        "\n",
        "# A sample of clusters\n",
        "print(dataset[['Annual Income (k$)','Spending Score (1-100)']].head())\n",
        "# Number of Labels\n",
        "print(\"number of labels: \", set(labels))"
      ],
      "metadata": {
        "id": "Wx8IMnkROJ2g"
      },
      "execution_count": null,
      "outputs": []
    },
    {
      "cell_type": "code",
      "source": [
        "# Visualize clusters\n",
        "\n",
        "plt.figure(figsize=(15,10))\n",
        "unique_labels = set(labels)\n",
        "colors = [plt.cm.Spectral(each)\n",
        "          for each in np.linspace(0, 1, len(unique_labels))]\n",
        "\n",
        "for k, col in zip(unique_labels, colors):\n",
        "  # black removed, used for noise instead\n",
        "  if k == -1:\n",
        "    # Black used for noise.\n",
        "    col = [0, 0, 0, 1]\n",
        "\n",
        "class_member_mask = ~(labels == k)"
      ],
      "metadata": {
        "id": "kWp2XyeMOJ0O"
      },
      "execution_count": null,
      "outputs": []
    },
    {
      "cell_type": "code",
      "source": [
        "plt.figure(figsize=(15,10))\n",
        "\n",
        "xy = X[class_member_mask & core_samples_mask]\n",
        "\n",
        "masked_y_hc = y_hc[class_member_mask & core_samples_mask]\n",
        "\n",
        "plt.scatter(xy[masked_y_hc == 0, 0], xy[masked_y_hc == 0, 1], s = 60, c = 'green', label = 'Target group')\n",
        "plt.scatter(xy[masked_y_hc == 2, 0], xy[masked_y_hc == 2, 1], s = 60, c = 'red', label = 'Careful')\n",
        "plt.scatter(xy[masked_y_hc == 4, 0], xy[masked_y_hc == 4, 1], s = 60, c = 'magenta', label = 'Sensible')\n",
        "plt.scatter(xy[masked_y_hc == 3, 0], xy[masked_y_hc == 3, 1], s = 60, c = 'orange', label = 'Careless')\n",
        "plt.scatter(xy[masked_y_hc == 1, 0], xy[masked_y_hc == 1, 1], s = 60, c = 'blue', label = 'Standard')\n",
        "\n",
        "xy = X[class_member_mask & ~core_samples_mask]\n",
        "\n",
        "plt.plot(xy[:, 0], xy[:, 1], '.', markerfacecolor=tuple(col),\n",
        "             markeredgecolor='k', markersize=6, label='Noise')\n",
        "\n",
        "plt.title('Clustering of Customers, Estimated Number of Clusters: %d' % realClusterNum, fontweight='bold',fontsize=20)\n",
        "plt.xlabel('Annual Income',fontsize=20)\n",
        "plt.ylabel('Spending Score',fontsize=20)\n",
        "plt.legend(fontsize=14, loc='center right', frameon=True, shadow=True)\n",
        "plt.show()\n",
        "\n",
        "n_noise_ = list(labels).count(-1)\n",
        "print('number of noise(s): ', n_noise_)"
      ],
      "metadata": {
        "id": "d4UPHGM_Wuc5"
      },
      "execution_count": null,
      "outputs": []
    },
    {
      "cell_type": "code",
      "source": [],
      "metadata": {
        "id": "UIhgjsNoWuhl"
      },
      "execution_count": null,
      "outputs": []
    }
  ]
}