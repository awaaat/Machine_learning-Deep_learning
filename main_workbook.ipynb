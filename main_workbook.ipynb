{
 "cells": [
  {
   "cell_type": "code",
   "execution_count": 1,
   "metadata": {},
   "outputs": [],
   "source": [
    "from data_ingestion import load_csv_file\n",
    "from parameter_dictionary import ConfigParameters\n",
    "from data_cleaning_and_transformation import DataCleanerAndTransformer\n",
    "from sklearn.experimental import enable_iterative_imputer\n",
    "import imputation_methods"
   ]
  },
  {
   "cell_type": "markdown",
   "metadata": {},
   "source": [
    "#Data Loading"
   ]
  },
  {
   "cell_type": "code",
   "execution_count": 2,
   "metadata": {},
   "outputs": [],
   "source": [
    "parameter_dictionary = ConfigParameters()\n",
    "URL = parameter_dictionary['CSV_URL']"
   ]
  },
  {
   "cell_type": "markdown",
   "metadata": {},
   "source": [
    "#Data Processig "
   ]
  },
  {
   "cell_type": "code",
   "execution_count": 3,
   "metadata": {},
   "outputs": [
    {
     "name": "stderr",
     "output_type": "stream",
     "text": [
      "2024-11-29 09:45:53,102 : data_ingestion - INFO - CSV File Loaded Successfully\n"
     ]
    },
    {
     "data": {
      "text/plain": [
       "(13934, 4)"
      ]
     },
     "execution_count": 3,
     "metadata": {},
     "output_type": "execute_result"
    }
   ],
   "source": [
    "\n",
    "data = load_csv_file(URL)\n",
    "data.head()\n",
    "\n",
    "data.shape"
   ]
  },
  {
   "cell_type": "code",
   "execution_count": 4,
   "metadata": {},
   "outputs": [
    {
     "name": "stderr",
     "output_type": "stream",
     "text": [
      "2024-11-29 09:45:53,213 : data_ingestion - INFO - CSV File Loaded Successfully\n",
      "2024-11-29 09:45:53,214 : raw_data_processor.RawDataProcessor - INFO - Successfully Loaded Data \n",
      "2024-11-29 09:45:53,227 : raw_data_processor.RawDataProcessor - INFO - Successfully Renamed Specified Columns \n",
      "2024-11-29 09:45:53,249 : raw_data_processor.RawDataProcessor - INFO - Successfully Dropped Rows with Null Values\n",
      "2024-11-29 09:45:58,838 : raw_data_processor.RawDataProcessor - INFO - Successfully Extracted and created 'account_name' column\n",
      "2024-11-29 09:46:02,716 : raw_data_processor.RawDataProcessor - INFO -  Successfully Created Column 'account_condition'\n",
      "2024-11-29 09:46:09,752 : raw_data_processor.RawDataProcessor - INFO - Successfully Extracted and Created Column 'orders done'. \n",
      "2024-11-29 09:46:15,647 : raw_data_processor.RawDataProcessor - INFO - Successfully Created Column 'account_rating'. \n",
      "2024-11-29 09:46:21,052 : raw_data_processor.RawDataProcessor - INFO - Successfully Classified Accounts as Bid/Take\n",
      "2024-11-29 09:46:21,144 : raw_data_processor.RawDataProcessor - INFO - Successfully Transformed Price Column\n",
      "2024-11-29 09:46:21,193 : data_cleaning_and_transformation.DataCleaningAndTransformation - INFO - Successfully Transformed Columns\n",
      "2024-11-29 09:46:21,257 : data_cleaning_and_transformation.DataCleaningAndTransformation - INFO - Successfully removed duplicate rows and reset the index.\n",
      "2024-11-29 09:46:22,191 : data_cleaning_and_transformation.DataCleaningAndTransformation - INFO - Successfully updated the 'rating' column based on specified conditions.\n",
      "2024-11-29 09:46:22,217 : data_cleaning_and_transformation.DataCleaningAndTransformation - INFO - Successfully replaced zeros in column 'price' with the median.\n",
      "2024-11-29 09:46:22,238 : data_cleaning_and_transformation.DataCleaningAndTransformation - INFO - Successfully dropped rows with missing values in 'name' column.\n"
     ]
    }
   ],
   "source": [
    "data = DataCleanerAndTransformer(parameter_dict=parameter_dictionary)\n",
    "df = data.clean_and_transform()"
   ]
  },
  {
   "cell_type": "code",
   "execution_count": 8,
   "metadata": {},
   "outputs": [],
   "source": [
    "df.to_csv('processed_.csv', header=True, index=False)"
   ]
  },
  {
   "cell_type": "code",
   "execution_count": 6,
   "metadata": {},
   "outputs": [
    {
     "data": {
      "text/plain": [
       "name           0\n",
       "orders_done    0\n",
       "condition      0\n",
       "rating         0\n",
       "bid/take       0\n",
       "price          0\n",
       "dtype: int64"
      ]
     },
     "execution_count": 6,
     "metadata": {},
     "output_type": "execute_result"
    }
   ],
   "source": [
    "df.isnull().sum()"
   ]
  },
  {
   "cell_type": "code",
   "execution_count": 7,
   "metadata": {},
   "outputs": [
    {
     "data": {
      "text/plain": [
       "(4565, 6)"
      ]
     },
     "execution_count": 7,
     "metadata": {},
     "output_type": "execute_result"
    }
   ],
   "source": [
    "df.shape"
   ]
  }
 ],
 "metadata": {
  "kernelspec": {
   "display_name": "Python 3",
   "language": "python",
   "name": "python3"
  },
  "language_info": {
   "codemirror_mode": {
    "name": "ipython",
    "version": 3
   },
   "file_extension": ".py",
   "mimetype": "text/x-python",
   "name": "python",
   "nbconvert_exporter": "python",
   "pygments_lexer": "ipython3",
   "version": "3.12.1"
  }
 },
 "nbformat": 4,
 "nbformat_minor": 2
}
