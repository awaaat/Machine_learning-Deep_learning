{
  "nbformat": 4,
  "nbformat_minor": 0,
  "metadata": {
    "colab": {
      "provenance": [],
      "authorship_tag": "ABX9TyNKNsmgjiXyC/hSYs+hmJiI",
      "include_colab_link": true
    },
    "kernelspec": {
      "name": "python3",
      "display_name": "Python 3"
    },
    "language_info": {
      "name": "python"
    }
  },
  "cells": [
    {
      "cell_type": "markdown",
      "metadata": {
        "id": "view-in-github",
        "colab_type": "text"
      },
      "source": [
        "<a href=\"https://colab.research.google.com/github/awaaat/Machine_learning-Deep_learning/blob/main/Tensorflow_Advanced_Deep_Learning.ipynb\" target=\"_parent\"><img src=\"https://colab.research.google.com/assets/colab-badge.svg\" alt=\"Open In Colab\"/></a>"
      ]
    },
    {
      "cell_type": "code",
      "execution_count": 78,
      "metadata": {
        "colab": {
          "base_uri": "https://localhost:8080/",
          "height": 35
        },
        "id": "7B3heohZ-Ak-",
        "outputId": "6c7b31b5-ddc7-4a26-8a94-38ffc710e866"
      },
      "outputs": [
        {
          "output_type": "execute_result",
          "data": {
            "text/plain": [
              "'2.15.0'"
            ],
            "application/vnd.google.colaboratory.intrinsic+json": {
              "type": "string"
            }
          },
          "metadata": {},
          "execution_count": 78
        }
      ],
      "source": [
        "import tensorflow as tf\n",
        "tf.__version__"
      ]
    },
    {
      "cell_type": "code",
      "source": [
        "import numpy as np\n",
        "from tensorflow.keras.datasets import mnist\n",
        "import matplotlib.pyplot as plt"
      ],
      "metadata": {
        "id": "zlJAci6q_B9t"
      },
      "execution_count": 79,
      "outputs": []
    },
    {
      "cell_type": "code",
      "source": [
        "(X_train, y_train), (X_test, y_test) = mnist.load_data()\n",
        "#number of unique train labels\n",
        "unique, counts= np.unique(y_train, return_counts = True)\n",
        "print(f\"Unique Train Labels\", dict(zip(unique, counts)))"
      ],
      "metadata": {
        "colab": {
          "base_uri": "https://localhost:8080/"
        },
        "id": "qRCgbELBe9MD",
        "outputId": "8895a3c2-c731-4359-89e3-05531aa2703e"
      },
      "execution_count": 80,
      "outputs": [
        {
          "output_type": "stream",
          "name": "stdout",
          "text": [
            "Unique Train Labels {0: 5923, 1: 6742, 2: 5958, 3: 6131, 4: 5842, 5: 5421, 6: 5918, 7: 6265, 8: 5851, 9: 5949}\n"
          ]
        }
      ]
    },
    {
      "cell_type": "code",
      "source": [
        "# count the number of unique test labels\n",
        "unique, counts = np.unique(y_test, return_counts=True)\n",
        "print(\"Test labels: \", dict(zip(unique, counts)))"
      ],
      "metadata": {
        "colab": {
          "base_uri": "https://localhost:8080/"
        },
        "id": "rNgCVBpfibQY",
        "outputId": "777c887b-15ba-4576-cf63-b523be4140ad"
      },
      "execution_count": 81,
      "outputs": [
        {
          "output_type": "stream",
          "name": "stdout",
          "text": [
            "Test labels:  {0: 980, 1: 1135, 2: 1032, 3: 1010, 4: 982, 5: 892, 6: 958, 7: 1028, 8: 974, 9: 1009}\n"
          ]
        }
      ]
    },
    {
      "cell_type": "code",
      "source": [
        "#Let us get a random sample of the image\n",
        "print(f\"X_train: {X_train.shape}\")\n",
        "print(f\"y_train: {y_train.shape}\")\n",
        "print(f\"X_test: {X_test.shape}\")\n",
        "print(f\"y_test: {y_test.shape}\")"
      ],
      "metadata": {
        "colab": {
          "base_uri": "https://localhost:8080/"
        },
        "id": "HMHBCrzrie-9",
        "outputId": "467be157-9ddf-4ffb-da23-b31e215c3261"
      },
      "execution_count": 82,
      "outputs": [
        {
          "output_type": "stream",
          "name": "stdout",
          "text": [
            "X_train: (60000, 28, 28)\n",
            "y_train: (60000,)\n",
            "X_test: (10000, 28, 28)\n",
            "y_test: (10000,)\n"
          ]
        }
      ]
    },
    {
      "cell_type": "code",
      "source": [
        "#Let us have a sample of 35 mnist digits from the set\n",
        "indices = np.random.randint(0, X_train.shape[0], size = 25)\n",
        "print(indices)"
      ],
      "metadata": {
        "colab": {
          "base_uri": "https://localhost:8080/"
        },
        "id": "nvc99cPvnc8n",
        "outputId": "d109ff4d-e30b-4fc4-8a84-691e49abd408"
      },
      "execution_count": 83,
      "outputs": [
        {
          "output_type": "stream",
          "name": "stdout",
          "text": [
            "[46348 30863 30782 28765 32522 23828 46904 38845 25836 38616 44751 21269\n",
            " 38098 14760 43932 15381  5935 36549 30938  4557 46141  4995  3136 56629\n",
            " 22426]\n"
          ]
        }
      ]
    },
    {
      "cell_type": "code",
      "source": [
        "#Let us fetch the images\n",
        "images = X_train[indices]\n",
        "labels = y_train[indices]\n",
        "print(f\"images: {images}\")\n",
        "print(f\"labesl: {labels}\")"
      ],
      "metadata": {
        "colab": {
          "base_uri": "https://localhost:8080/"
        },
        "id": "m8Oth2MXrOf3",
        "outputId": "45437dbb-34c4-4f94-c1a7-98fd9315677f"
      },
      "execution_count": 84,
      "outputs": [
        {
          "output_type": "stream",
          "name": "stdout",
          "text": [
            "images: [[[0 0 0 ... 0 0 0]\n",
            "  [0 0 0 ... 0 0 0]\n",
            "  [0 0 0 ... 0 0 0]\n",
            "  ...\n",
            "  [0 0 0 ... 0 0 0]\n",
            "  [0 0 0 ... 0 0 0]\n",
            "  [0 0 0 ... 0 0 0]]\n",
            "\n",
            " [[0 0 0 ... 0 0 0]\n",
            "  [0 0 0 ... 0 0 0]\n",
            "  [0 0 0 ... 0 0 0]\n",
            "  ...\n",
            "  [0 0 0 ... 0 0 0]\n",
            "  [0 0 0 ... 0 0 0]\n",
            "  [0 0 0 ... 0 0 0]]\n",
            "\n",
            " [[0 0 0 ... 0 0 0]\n",
            "  [0 0 0 ... 0 0 0]\n",
            "  [0 0 0 ... 0 0 0]\n",
            "  ...\n",
            "  [0 0 0 ... 0 0 0]\n",
            "  [0 0 0 ... 0 0 0]\n",
            "  [0 0 0 ... 0 0 0]]\n",
            "\n",
            " ...\n",
            "\n",
            " [[0 0 0 ... 0 0 0]\n",
            "  [0 0 0 ... 0 0 0]\n",
            "  [0 0 0 ... 0 0 0]\n",
            "  ...\n",
            "  [0 0 0 ... 0 0 0]\n",
            "  [0 0 0 ... 0 0 0]\n",
            "  [0 0 0 ... 0 0 0]]\n",
            "\n",
            " [[0 0 0 ... 0 0 0]\n",
            "  [0 0 0 ... 0 0 0]\n",
            "  [0 0 0 ... 0 0 0]\n",
            "  ...\n",
            "  [0 0 0 ... 0 0 0]\n",
            "  [0 0 0 ... 0 0 0]\n",
            "  [0 0 0 ... 0 0 0]]\n",
            "\n",
            " [[0 0 0 ... 0 0 0]\n",
            "  [0 0 0 ... 0 0 0]\n",
            "  [0 0 0 ... 0 0 0]\n",
            "  ...\n",
            "  [0 0 0 ... 0 0 0]\n",
            "  [0 0 0 ... 0 0 0]\n",
            "  [0 0 0 ... 0 0 0]]]\n",
            "labesl: [8 4 9 9 6 0 8 1 0 4 4 4 7 2 0 9 6 0 1 1 1 7 6 6 5]\n"
          ]
        }
      ]
    },
    {
      "cell_type": "code",
      "source": [
        "#Visualize, visualize, visualize\n",
        "\"\"\"Let us plot the first 25 random digits\"\"\"\n",
        "plt.figure(figsize = (5, 5))\n",
        "for i in range(len(indices)):\n",
        "  plt.subplot(5, 5, i+1)\n",
        "  image = (images[i])\n",
        "  plt.imshow(image, cmap = \"gray\")\n",
        "  plt.axis(\"off\")\n",
        "plt.savefig(\"Mnist Image Samples\")\n",
        "plt.show()\n",
        "plt.close(\"all\")"
      ],
      "metadata": {
        "colab": {
          "base_uri": "https://localhost:8080/",
          "height": 422
        },
        "id": "qzMwNjuNsHoZ",
        "outputId": "d1d043b9-9d57-4a99-87f7-cf6630742b19"
      },
      "execution_count": 85,
      "outputs": [
        {
          "output_type": "display_data",
          "data": {
            "text/plain": [
              "<Figure size 500x500 with 25 Axes>"
            ],
            "image/png": "[encoded data removed]"
          },
          "metadata": {}
        }
      ]
    },
    {
      "cell_type": "code",
      "source": [],
      "metadata": {
        "id": "5xBef38JvZuq"
      },
      "execution_count": 85,
      "outputs": []
    },
    {
      "cell_type": "markdown",
      "source": [
        "#Multi Layer Perception\n",
        "The MNIST digit classifier model"
      ],
      "metadata": {
        "id": "b37PQP15xHGt"
      }
    },
    {
      "cell_type": "code",
      "source": [
        "import numpy as mp\n",
        "from tensorflow.keras.models import Sequential\n",
        "from tensorflow.keras.layers import Dense, Activation, Dropout\n",
        "from tensorflow.keras.utils import to_categorical, plot_model\n",
        "from tensorflow.keras.datasets import mnist"
      ],
      "metadata": {
        "id": "z_aXxVC7xMXA"
      },
      "execution_count": 86,
      "outputs": []
    },
    {
      "cell_type": "code",
      "source": [
        "\n",
        "#Load the dataset\n",
        "(X_train, y_train), (X_test, y_test) = mnist.load_data()\n",
        "#Let us see the number of labels\n",
        "num_labels = len(np.unique(y_train))\n",
        "print(num_labels)\n",
        "print(y_train.shape)\n",
        "print(X_train.shape)"
      ],
      "metadata": {
        "colab": {
          "base_uri": "https://localhost:8080/"
        },
        "id": "pzz9lzSiywuS",
        "outputId": "3dbe0c1c-13a1-45c9-f3d5-0468be923547"
      },
      "execution_count": 87,
      "outputs": [
        {
          "output_type": "stream",
          "name": "stdout",
          "text": [
            "10\n",
            "(60000,)\n",
            "(60000, 28, 28)\n"
          ]
        }
      ]
    },
    {
      "cell_type": "code",
      "source": [
        "#We convert to one_hot vector\n",
        "y_train= to_categorical(y_train)\n",
        "y_test = to_categorical(y_test)\n",
        "#Let us work on image dimensions (assumed square)\n",
        "image_size = X_train.shape[1]\n",
        "\"\"\"print(image_size)\"\"\"\n",
        "input_size = image_size * image_size #Essentially, the image input size is made (28, 28, )\n",
        "#Then we do the reshaping and normalization-same as feature engineering\n",
        "X_train = np.reshape(X_train, [-1, input_size])\n",
        "X_train = X_train.astype(\"float32\")/255\n",
        "X_test = np.reshape(X_test, [-1, input_size])\n",
        "X_test = X_test.astype(\"float32\")/255\n",
        "\n",
        "#Now let us network our parameters\n",
        "batch_size = 128\n",
        "hidden_units = 256\n",
        "dropout = 0.45\n",
        "\n",
        "#This means that our  model is a 3 layer multilayerpercepron model with ReLu and dropout after each layer.\n"
      ],
      "metadata": {
        "id": "W0al791r0C9A"
      },
      "execution_count": 88,
      "outputs": []
    },
    {
      "cell_type": "code",
      "source": [
        "model = Sequential()\n",
        "#Layer 1\n",
        "model.add(Dense(hidden_units, input_dim = input_size))\n",
        "model.add(Activation(\"relu\"))\n",
        "model.add(Dropout(dropout))\n",
        "#Layer 2\n",
        "model.add(Dense(hidden_units, input_dim = input_size))\n",
        "model.add(Activation(\"relu\"))\n",
        "model.add(Dropout(dropout))\n",
        "#Layer 3\n",
        "model.add(Dense(num_labels))\n",
        "model.add(Activation(\"softmax\"))\n",
        "model.summary()\n",
        "plot_model(model, to_file='mlp-mnist.png', show_shapes = True)\n",
        "#Now let us consider the loss function for one hot encoder\n",
        "#Note that we will use adam activation\n",
        "#For metrics, we will use accuracy. We can also consider prcision an recall or confussion matrix\n",
        "model.compile(loss = \"categorical_crossentropy\", optimizer=\"adam\", metrics=[\"accuracy\"])\n",
        "#Let us not train our neural networl\"\n",
        "model.fit(X_train, y_train, epochs = 20, batch_size = batch_size)"
      ],
      "metadata": {
        "colab": {
          "base_uri": "https://localhost:8080/"
        },
        "id": "F-IiDBi61ue8",
        "outputId": "0b3f4472-b21c-404a-8ede-e89419a6052a"
      },
      "execution_count": 97,
      "outputs": [
        {
          "output_type": "stream",
          "name": "stdout",
          "text": [
            "Model: \"sequential_12\"\n",
            "_________________________________________________________________\n",
            " Layer (type)                Output Shape              Param #   \n",
            "=================================================================\n",
            " dense_33 (Dense)            (None, 256)               200960    \n",
            "                                                                 \n",
            " activation_33 (Activation)  (None, 256)               0         \n",
            "                                                                 \n",
            " dropout_22 (Dropout)        (None, 256)               0         \n",
            "                                                                 \n",
            " dense_34 (Dense)            (None, 256)               65792     \n",
            "                                                                 \n",
            " activation_34 (Activation)  (None, 256)               0         \n",
            "                                                                 \n",
            " dropout_23 (Dropout)        (None, 256)               0         \n",
            "                                                                 \n",
            " dense_35 (Dense)            (None, 10)                2570      \n",
            "                                                                 \n",
            " activation_35 (Activation)  (None, 10)                0         \n",
            "                                                                 \n",
            "=================================================================\n",
            "Total params: 269322 (1.03 MB)\n",
            "Trainable params: 269322 (1.03 MB)\n",
            "Non-trainable params: 0 (0.00 Byte)\n",
            "_________________________________________________________________\n",
            "Epoch 1/20\n",
            "469/469 [==============================] - 5s 9ms/step - loss: 0.4196 - accuracy: 0.8695\n",
            "Epoch 2/20\n",
            "469/469 [==============================] - 5s 10ms/step - loss: 0.1912 - accuracy: 0.9431\n",
            "Epoch 3/20\n",
            "469/469 [==============================] - 5s 10ms/step - loss: 0.1484 - accuracy: 0.9554\n",
            "Epoch 4/20\n",
            "469/469 [==============================] - 4s 9ms/step - loss: 0.1270 - accuracy: 0.9620\n",
            "Epoch 5/20\n",
            "469/469 [==============================] - 5s 11ms/step - loss: 0.1130 - accuracy: 0.9655\n",
            "Epoch 6/20\n",
            "469/469 [==============================] - 4s 9ms/step - loss: 0.0988 - accuracy: 0.9693\n",
            "Epoch 7/20\n",
            "469/469 [==============================] - 4s 9ms/step - loss: 0.0950 - accuracy: 0.9700\n",
            "Epoch 8/20\n",
            "469/469 [==============================] - 5s 11ms/step - loss: 0.0879 - accuracy: 0.9728\n",
            "Epoch 9/20\n",
            "469/469 [==============================] - 4s 9ms/step - loss: 0.0787 - accuracy: 0.9749\n",
            "Epoch 10/20\n",
            "469/469 [==============================] - 4s 9ms/step - loss: 0.0768 - accuracy: 0.9756\n",
            "Epoch 11/20\n",
            "469/469 [==============================] - 5s 11ms/step - loss: 0.0724 - accuracy: 0.9767\n",
            "Epoch 12/20\n",
            "469/469 [==============================] - 4s 9ms/step - loss: 0.0692 - accuracy: 0.9776\n",
            "Epoch 13/20\n",
            "469/469 [==============================] - 5s 10ms/step - loss: 0.0709 - accuracy: 0.9778\n",
            "Epoch 14/20\n",
            "469/469 [==============================] - 5s 11ms/step - loss: 0.0664 - accuracy: 0.9793\n",
            "Epoch 15/20\n",
            "469/469 [==============================] - 4s 9ms/step - loss: 0.0601 - accuracy: 0.9812\n",
            "Epoch 16/20\n",
            "469/469 [==============================] - 5s 11ms/step - loss: 0.0599 - accuracy: 0.9805\n",
            "Epoch 17/20\n",
            "469/469 [==============================] - 4s 9ms/step - loss: 0.0578 - accuracy: 0.9817\n",
            "Epoch 18/20\n",
            "469/469 [==============================] - 4s 9ms/step - loss: 0.0569 - accuracy: 0.9822\n",
            "Epoch 19/20\n",
            "469/469 [==============================] - 5s 11ms/step - loss: 0.0537 - accuracy: 0.9829\n",
            "Epoch 20/20\n",
            "469/469 [==============================] - 4s 9ms/step - loss: 0.0527 - accuracy: 0.9834\n"
          ]
        },
        {
          "output_type": "execute_result",
          "data": {
            "text/plain": [
              "<keras.src.callbacks.History at 0x7adb8c53b700>"
            ]
          },
          "metadata": {},
          "execution_count": 97
        }
      ]
    },
    {
      "cell_type": "code",
      "source": [
        "#That was awesome. Let us now do some validation\n",
        "_, acc = model.evaluate(X_test, y_test, batch_size = batch_size)\n",
        "print(\"\\nTest Accuracy:%.1f%%\" % (100.0 * acc))"
      ],
      "metadata": {
        "colab": {
          "base_uri": "https://localhost:8080/"
        },
        "id": "Hr3nR7YnEh6b",
        "outputId": "1deee2ff-b467-464d-ffff-fe4dfac8757f"
      },
      "execution_count": 99,
      "outputs": [
        {
          "output_type": "stream",
          "name": "stdout",
          "text": [
            "79/79 [==============================] - 0s 4ms/step - loss: 0.0610 - accuracy: 0.9825\n",
            "\n",
            "Test Accuracy:98.3%\n"
          ]
        }
      ]
    },
    {
      "cell_type": "code",
      "source": [],
      "metadata": {
        "id": "ei8A_xhlIoB9"
      },
      "execution_count": null,
      "outputs": []
    }
  ]
}