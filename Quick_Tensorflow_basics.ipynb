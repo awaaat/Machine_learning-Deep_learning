{
  "nbformat": 4,
  "nbformat_minor": 0,
  "metadata": {
    "colab": {
      "provenance": [],
      "authorship_tag": "ABX9TyNlEp+6u7AAT/+V744EAt3u",
      "include_colab_link": true
    },
    "kernelspec": {
      "name": "python3",
      "display_name": "Python 3"
    },
    "language_info": {
      "name": "python"
    }
  },
  "cells": [
    {
      "cell_type": "markdown",
      "metadata": {
        "id": "view-in-github",
        "colab_type": "text"
      },
      "source": [
        "<a href=\"https://colab.research.google.com/github/awaaat/Machine_learning-Deep_learning/blob/main/Quick_Tensorflow_basics.ipynb\" target=\"_parent\"><img src=\"https://colab.research.google.com/assets/colab-badge.svg\" alt=\"Open In Colab\"/></a>"
      ]
    },
    {
      "cell_type": "code",
      "execution_count": 13,
      "metadata": {
        "colab": {
          "base_uri": "https://localhost:8080/"
        },
        "id": "vtdCDQcWD7WG",
        "outputId": "eb3a5f85-36b9-43aa-9d34-7521e2482bbc"
      },
      "outputs": [
        {
          "output_type": "stream",
          "name": "stdout",
          "text": [
            "Tensorflow version: 2.15.0\n"
          ]
        }
      ],
      "source": [
        "import tensorflow as tf\n",
        "print(f\"Tensorflow version: {tf.__version__}\")"
      ]
    },
    {
      "cell_type": "code",
      "source": [
        "from tensorflow.keras.layers import Dense, Flatten, Conv2D\n",
        "from tensorflow.keras import Model"
      ],
      "metadata": {
        "id": "Q00exxBuEW39"
      },
      "execution_count": 14,
      "outputs": []
    },
    {
      "cell_type": "code",
      "source": [
        "mnist = tf.keras.datasets.mnist\n",
        "(X_train, y_train), (X_test, y_test) = mnist.load_data()\n",
        "X_train, X_test = X_train/255.0, X_test/255.0\n",
        "print(f\"X_train: {X_train.shape}\")\n",
        "print(f\"y_train: {y_train.shape}\")\n",
        "print(f\"X_test: {X_test.shape}\")\n",
        "print(f\"y_test: {y_test.shape}\")"
      ],
      "metadata": {
        "colab": {
          "base_uri": "https://localhost:8080/"
        },
        "id": "ngRhijm0EtLn",
        "outputId": "fd70ec98-8b71-42fa-ff9a-a2054e1f1676"
      },
      "execution_count": 15,
      "outputs": [
        {
          "output_type": "stream",
          "name": "stdout",
          "text": [
            "X_train: (60000, 28, 28)\n",
            "y_train: (60000,)\n",
            "X_test: (10000, 28, 28)\n",
            "y_test: (10000,)\n"
          ]
        }
      ]
    },
    {
      "cell_type": "code",
      "source": [
        "#We then add channel dimensions\n",
        "X_train = X_train[..., tf.newaxis].astype(\"float32\")\n",
        "X_test = X_test[..., tf.newaxis].astype(\"float32\")"
      ],
      "metadata": {
        "id": "TnzHlfVEEpWq"
      },
      "execution_count": 16,
      "outputs": []
    },
    {
      "cell_type": "code",
      "source": [
        "training_ds = tf.data.Dataset.from_tensor_slices((X_train, y_train)).shuffle(1000).batch(32)\n",
        "testing_ds = tf.data.Dataset.from_tensor_slices((X_test, y_test)).batch(32)\n"
      ],
      "metadata": {
        "id": "E55WFolHJXWR"
      },
      "execution_count": 17,
      "outputs": []
    },
    {
      "cell_type": "markdown",
      "source": [
        "#We are now going to be building the tf.keras model using the Keras model subclassing API:"
      ],
      "metadata": {
        "id": "2-bZn8tYKnR4"
      }
    },
    {
      "cell_type": "code",
      "source": [
        "class MyModel(Model):\n",
        "  def __init__(self):\n",
        "    super().__init__()\n",
        "    self.conv1 = Conv2D(32, 3, activation = \"relu\")\n",
        "    self.flatten = Flatten()\n",
        "    self.d1 = Dense(128, activation = \"relu\")\n",
        "    self.d2 = Dense(10)\n",
        "\n",
        "  def call(self, X):\n",
        "    X = self.conv1(X)\n",
        "    X = X = self.flatten(X)\n",
        "    X = self.d1(X)\n",
        "    return self.d2(X)\n",
        "\n",
        "\n",
        "model = MyModel()"
      ],
      "metadata": {
        "id": "zt3svVnVKJc4"
      },
      "execution_count": 18,
      "outputs": []
    },
    {
      "cell_type": "code",
      "source": [
        "#We then Choose an optimizer and loss function for training:\n",
        "loss_fn = tf.keras.losses.SparseCategoricalCrossentropy(from_logits = True)\n",
        "optimizer = tf.keras.optimizers.Adam()\n",
        "\n",
        "#Let us select performannce evaluation meausres of the model\n",
        "train_loss = tf.keras.metrics.Mean(name  = \"training loss\")\n",
        "train_accurracy = tf.keras.metrics.SparseCategoricalAccuracy(name = \"training accuracy\")\n",
        "\n",
        "test_loss = tf.keras.metrics.Mean(name='test_loss')\n",
        "test_accurracy = tf.keras.metrics.SparseCategoricalAccuracy(name='test_accuracy')"
      ],
      "metadata": {
        "id": "EZgMXlH9KIep"
      },
      "execution_count": 19,
      "outputs": []
    },
    {
      "cell_type": "code",
      "source": [
        "#We noe use the Use tf.GradientTape to train the model\n",
        "@tf.function\n",
        "def training_step(images, labels):\n",
        "  with tf.GradientTape() as tape:\n",
        "    predictions = model(images, training = True)\n",
        "    loss = loss_fn(labels, predictions)\n",
        "  gradients = tape.gradient(loss, model.trainable_variables)\n",
        "  optimizer.apply_gradients(zip(gradients, model.trainable_variables))\n",
        "\n",
        "\n",
        "  train_loss(loss)\n",
        "  train_accurracy(labels, predictions)"
      ],
      "metadata": {
        "id": "63PvaRLIovaa"
      },
      "execution_count": 20,
      "outputs": []
    },
    {
      "cell_type": "code",
      "source": [
        "#Let us have the testing step\n",
        "@tf.function\n",
        "def testing_step(images, labels):\n",
        "  predictions = model(images, training = False)\n",
        "  t_loss = loss_fn(labels, predictions)\n",
        "  test_loss(t_loss)\n",
        "  test_accurracy(labels, predictions)"
      ],
      "metadata": {
        "id": "pafFExBLrrri"
      },
      "execution_count": 21,
      "outputs": []
    },
    {
      "cell_type": "code",
      "source": [
        "epochs = 5\n",
        "\n",
        "for epoch in range(epochs):\n",
        "  train_loss.reset_state()\n",
        "  train_accurracy.reset_state()\n",
        "  test_loss.reset_state()\n",
        "  test_accurracy.reset_state()\n",
        "\n",
        "\n",
        "  #Apply the training step\n",
        "  for images, labels in training_ds:\n",
        "    training_step(images, labels)\n",
        "  for test_images, test_labels in testing_ds:\n",
        "    testing_step(test_images, test_labels)\n",
        "  print(\n",
        "    f'Epoch {epoch + 1}, '\n",
        "    f'Loss: {train_loss.result():0.2f}, '\n",
        "    f'Accuracy: {train_accurracy.result() * 100:0.2f}, '\n",
        "    f'Test Loss: {test_loss.result():0.2f}, '\n",
        "    f'Test Accuracy: {test_accurracy.result() * 100:0.2f}'\n",
        "  )"
      ],
      "metadata": {
        "colab": {
          "base_uri": "https://localhost:8080/"
        },
        "id": "wtMIZnk9woEC",
        "outputId": "35cec834-67c7-4500-8e12-8253db6160a8"
      },
      "execution_count": null,
      "outputs": [
        {
          "output_type": "stream",
          "name": "stdout",
          "text": [
            "Epoch 1, Loss: 0.13, Accuracy: 95.88, Test Loss: 0.08, Test Accuracy: 97.43\n"
          ]
        }
      ]
    }
  ]
}